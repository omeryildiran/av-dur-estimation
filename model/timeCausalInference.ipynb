{
 "cells": [
  {
   "cell_type": "markdown",
   "id": "8a9cac21",
   "metadata": {},
   "source": []
  },
  {
   "cell_type": "markdown",
   "id": "5afc265a",
   "metadata": {},
   "source": [
    "# Causal inference model for auditory-visual duration discrimination with conflict"
   ]
  },
  {
   "cell_type": "markdown",
   "id": "e2de7d4d",
   "metadata": {},
   "source": [
    "# Notations:\n",
    "- $S_a$: true auditory duration\n",
    "- $S_v$: true visual duration\n",
    "- $m_a$: noisy auditory measurement\n",
    "- $m_v$: noisy visual measurement\n",
    "- $\\sigma_a$: auditory noise (standard deviation)\n",
    "- $\\sigma_v$: visual noise (standard deviation)\n",
    "- $C$: common cause (1 if common, 2 if independent)\n",
    "- $\\mu_p$: prior bias (assumed to be 0 for simplicity)\n",
    "- $\\sigma_p$: prior noise (assumed to be infinite for simplicity)\n",
    "- $\\sigma_{av,a}$: effective auditory noise in the AV condition\n",
    "- $\\sigma_{av,v}$: effective visual noise in the AV condition\n",
    "- $\\hat{S}_{av,a}$: estimated auditory duration in the AV condition\n",
    "- $\\hat{S}_{av,v}$: estimated visual duration in the AV condition\n",
    "- $\\hat{S}_{CI,t}$: final internal estimate for the test interval\n",
    "- $\\hat{S}_{CI,s}$: final internal estimate for the standard interval\n",
    "\n"
   ]
  },
  {
   "cell_type": "markdown",
   "id": "381a91fe",
   "metadata": {},
   "source": [
    "# 1 - Reliability based duration estimation assuming fully fusion\n"
   ]
  },
  {
   "cell_type": "markdown",
   "id": "86203349",
   "metadata": {},
   "source": [
    "$\\hat{S}_{av,a}=\\hat{S}_{av,v}= \\frac{\\sigma_{av,a}^{-2} m_a+\\sigma_{av,v}^{-2} m_v}{\\sigma_{av,a}^{-2} + \\sigma_{av,v}^{-2}}$ "
   ]
  },
  {
   "cell_type": "code",
   "execution_count": 1,
   "id": "2a10846e",
   "metadata": {},
   "outputs": [
    {
     "data": {
      "application/vnd.jupyter.widget-view+json": {
       "model_id": "f7f782272431410e97f6e9eeb278bcae",
       "version_major": 2,
       "version_minor": 0
      },
      "text/plain": [
       "interactive(children=(FloatSlider(value=0.2, description='Sigma', max=5.0, min=0.1), FloatSlider(value=0.5, de…"
      ]
     },
     "metadata": {},
     "output_type": "display_data"
    },
    {
     "data": {
      "text/plain": [
       "<function __main__.plotMeasurementsAndLikelihood(sigma, S)>"
      ]
     },
     "execution_count": 1,
     "metadata": {},
     "output_type": "execute_result"
    }
   ],
   "source": [
    "import numpy as np\n",
    "import matplotlib.pyplot as plt\n",
    "from ipywidgets import interact, FloatSlider, IntSlider\n",
    "#import normal\n",
    "from scipy.stats import norm\n",
    "# unimodal measurements\n",
    "def unimodalMeasurements(sigma, S):\n",
    "    # P(x|s) # generate measurements from a normal distribution\n",
    "    m = np.random.normal(S, sigma, 1000)  # true duration is S seconds\n",
    "    return m\n",
    "\n",
    "# probability density function of a Gaussian distribution\n",
    "def gaussianPDF(x,S, sigma):\n",
    "\treturn (1/(np.sqrt(2*np.pi)*sigma))*np.exp(-((x-S)**2)/(2*(sigma**2)))\n",
    "\n",
    "# likelihood function\n",
    "def likelihood( S, sigma):\n",
    "    # P(m|s) # likelihood of measurements given the true duration\n",
    "    m=np.linspace(S - 4*sigma, S + 4*sigma, 500)\n",
    "    p_m=gaussianPDF(m,S,sigma)\n",
    "    return m, p_m\n",
    "\n",
    "def plotLikelihood(S,sigma):\n",
    "\tx, p_x = likelihood(S, sigma)\n",
    "\tplt.plot(x, p_x, label='Likelihood Function')\n",
    "\tplt.xlabel('Measurement $m$')\n",
    "\tplt.ylabel('Probability Density')\n",
    "\tplt.title('Analytical Likelihood $P(m|s)$')\n",
    "\tplt.legend()\n",
    "\n",
    "def plotMeasurements(sigma, S):\n",
    "    m = unimodalMeasurements(sigma, S)\n",
    "    plt.hist(m, bins=50, density=True, alpha=0.5, label='Measurements Histogram')\n",
    "    plt.xlabel('Measurement $m$')\n",
    "    plt.ylabel('Density')\n",
    "    plt.title('Unimodal Measurements Histogram')\n",
    "    plt.legend()      \n",
    "\n",
    "\n",
    "def plotMeasurementsAndLikelihood(sigma, S):\n",
    "    plt.figure(figsize=(10, 6))\n",
    "    plotMeasurements(sigma, S)\n",
    "    plotLikelihood(S, sigma)\n",
    "    plt.xlim(-1, 1)\n",
    "\n",
    "    plt.show()\n",
    "\n",
    "# interactive plotting\n",
    "import ipywidgets as widgets\n",
    "interact(plotMeasurementsAndLikelihood,\n",
    "         sigma=widgets.FloatSlider(value=0.2, min=0.1, max=5.0, step=0.1, description='Sigma'),\n",
    "         S=widgets.FloatSlider(value=0.5, min=-1.5, max=1.5, step=0.1, description='True Duration S'))\n"
   ]
  },
  {
   "cell_type": "markdown",
   "id": "ae51e2a9",
   "metadata": {},
   "source": [
    "### 2.1 Fusion (C=1)\n",
    "\n",
    "### **2.1.1 Fusion of one interval**"
   ]
  },
  {
   "cell_type": "markdown",
   "id": "51d01cf6",
   "metadata": {},
   "source": [
    "$$\\hat{S}_{av,a}=\\hat{S}_{av,v}= \\frac{\\sigma_{av,a}^{-2} m_a+\\sigma_{av,v}^{-2} m_v}{\\sigma_{av,a}^{-2} + \\sigma_{av,v}^{-2}}\\\\ \n",
    "= w_aS_a+w_vS_v$$ \n",
    "$$J_a=\\frac{1}{\\sigma_{av,a}^{2}} \\\\\n",
    "J_v=\\frac{1}{\\sigma_{av,v}^{2}}\\\\\n",
    "\\sigma_{av}^2=\\frac{1}{J_1+J_2}$$"
   ]
  },
  {
   "cell_type": "markdown",
   "id": "df92cb8c",
   "metadata": {},
   "source": [
    "$$p(S|m_a,m_v)\\sim p(S)p(m_a|S)p(m_v|S)\\\\\n",
    "p(S|m_a,m_v)\\sim N(\\hat S_{av},\\sigma_{av}^2)\\\\\n",
    "$$\n"
   ]
  },
  {
   "cell_type": "code",
   "execution_count": 10,
   "id": "a3ee112e",
   "metadata": {},
   "outputs": [],
   "source": [
    "# compute fused estimate (reliability weighted avg)\n",
    "def fusionAV(sigmaAV_A,sigmaAV_V, S_a, visualConflict):\n",
    "\tm_a=unimodalMeasurements(sigmaAV_A, S_a)\n",
    "\tS_v=S_a+visualConflict\n",
    "\tm_v = unimodalMeasurements(sigmaAV_V,S_v)  # visual measurement\n",
    "\t# compute the precisons inverse of variances\n",
    "\tJ_AV_A= sigmaAV_A**-2 # auditory precision\n",
    "\tJ_AV_V=sigmaAV_V**-2 # visual precision\n",
    "\t# compute the fused estimate using reliability weighted averaging\n",
    "\that_S_AV= (J_AV_A*m_a+J_AV_V*m_v)/(J_AV_V+J_AV_A)\n",
    "\tsigma_S_AV_hat=np.sqrt(1 / (J_AV_A + J_AV_V))  # fused standard deviation\n",
    "\n",
    "\treturn hat_S_AV, sigma_S_AV_hat\n"
   ]
  },
  {
   "cell_type": "code",
   "execution_count": null,
   "id": "cf67b7b7",
   "metadata": {},
   "outputs": [
    {
     "data": {
      "application/vnd.jupyter.widget-view+json": {
       "model_id": "0419f04699fc40a5a4091d236927276b",
       "version_major": 2,
       "version_minor": 0
      },
      "text/plain": [
       "interactive(children=(FloatSlider(value=0.2, description='$Sigma_{AV,A}', max=5.0, min=0.1), FloatSlider(value…"
      ]
     },
     "metadata": {},
     "output_type": "display_data"
    },
    {
     "data": {
      "text/plain": [
       "<function __main__.generativeModelPlot(sigmaAV_A, sigmaAV_V, S_a, visualConflict, showHistograms=True)>"
      ]
     },
     "execution_count": 18,
     "metadata": {},
     "output_type": "execute_result"
    }
   ],
   "source": [
    "# create interactive plot \n",
    "from ipywidgets import interact, FloatSlider, IntSlider\n",
    "#import normal\n",
    "from scipy.stats import norm\n",
    "\n",
    "def generativeModelPlot(sigmaAV_A, sigmaAV_V, S_a,visualConflict,showHistograms=True):\n",
    "    # Go analytic likelihoods\n",
    "    # S: True Stim\n",
    "    S_v=S_a+visualConflict\n",
    "\n",
    "\n",
    "    # plot the likelihoods\n",
    "    plt.figure(figsize=(10, 6))\n",
    "    # line plot probablity distribution of auditory measurement\n",
    "    colorA='teal'\n",
    "    x_a,p_a = likelihood( S_a, sigmaAV_A) # probability density function for auditory measurement\n",
    "    plt.plot(x_a, p_a, color=colorA, label='Auditory PDF')\n",
    "    plt.axvline(S_a, color=colorA, label= \"Auditory Stimulus\", linestyle='--')\n",
    "\n",
    "    # Plot measurements and true stimulus value for Visual\n",
    "    x_v= np.linspace(S_v - 4*sigmaAV_V, S_v + 4*sigmaAV_V, 500)\n",
    "    colorV='forestgreen'\n",
    "    x_v,p_v=likelihood(S_v, sigmaAV_V) # args: mean, std and m_v means measurement\n",
    "    plt.plot(x_v, p_v, color=colorV, label='Visual PDF')\n",
    "    plt.axvline(S_v, color=colorV, label= \"Visual Stimulus\", linestyle='--')\n",
    "\n",
    "    # Fused estimate\n",
    "    hat_S_AV , sigma_S_AV_hat= fusionAV(sigmaAV_A, sigmaAV_V, S_a, visualConflict)\n",
    "    plt.axvline(np.mean(hat_S_AV), color='orange', label='$\\hat S_{av}$Fused Estimate', linestyle='--')\n",
    "    \n",
    "    # fused likelihood analytically\n",
    "    J_a = sigmaAV_A**-2  # auditory precision\n",
    "    J_v = sigmaAV_V**-2  # visual precision\n",
    "\n",
    "    w_a = J_a / (J_a + J_v)  # weight for auditory\n",
    "    w_v = 1 - w_a  # weight for visual\n",
    "    mu_Shat = w_a * S_a + w_v * S_v  # fused mean\n",
    "    \n",
    "    x_av = np.linspace(mu_Shat - 4 * sigma_S_AV_hat, mu_Shat + 4 * sigma_S_AV_hat, 500)\n",
    "    p_S_AV= gaussianPDF(x_av,mu_Shat,sigma_S_AV_hat)\n",
    "\n",
    "    #x_av, p_S_AV = likelihood(mu_Shat, sigma_S_AV_hat)\n",
    "    plt.plot(x_av, p_S_AV, color='orange', label=f'$S$ Fused PDF')\n",
    "    plt.axvline(mu_Shat, color='orange', linestyle='--')\n",
    "\n",
    "    # plot the measurements\n",
    "    if showHistograms:\n",
    "        plt.hist(unimodalMeasurements(sigmaAV_A, S_a), bins=30, density=True, alpha=0.5, color='teal')\n",
    "        plt.hist(unimodalMeasurements(sigmaAV_V, S_v), bins=30, density=True, alpha=0.5, color='forestgreen')\n",
    "        plt.hist(hat_S_AV, bins=30, density=True, alpha=0.5, color='orange' )\n",
    "    plt.title('Generative Model for AV Fusion')\n",
    "    plt.xlabel('Internal Measurement / Estimate')\n",
    "    plt.ylabel('Probability Density')\n",
    "    plt.legend(loc='best')\n",
    "    #plt.tight_layout()\n",
    "    plt.xlim(-1.5,1.5)\n",
    "\n",
    "# Interactive Plotting\n",
    "interact(generativeModelPlot,\n",
    "         sigmaAV_A=widgets.FloatSlider(value=0.2, min=0.1, max=5.0, step=0.1, description='$Sigma_{AV,A}'),\n",
    "         sigmaAV_V=widgets.FloatSlider(value=0.2, min=0.1, max=5.0, step=0.1, description='Sigma AV V'),\n",
    "         S_a=widgets.FloatSlider(value=0.3, min=-1.5, max=1.5, step=0.1, description='True Duration S_a'),\n",
    "         visualConflict=widgets.FloatSlider(value=0.9, min=0.0, max=2.0, step=0.1, description='Visual Conflict'),\n",
    "         showHistograms=widgets.Checkbox(value=True, description='Show Histograms'))\n"
   ]
  },
  {
   "cell_type": "markdown",
   "id": "27b817d4",
   "metadata": {},
   "source": []
  },
  {
   "cell_type": "markdown",
   "id": "23044b75",
   "metadata": {},
   "source": [
    "## 2.1.2 Fusion of two intervals"
   ]
  },
  {
   "cell_type": "markdown",
   "id": "7ff83cd5",
   "metadata": {},
   "source": [
    "\\begin{align}\n",
    "\\Delta_{t-s}=w_a({m_a^t} -m_a^S)+ w_v ({m_v^t} -m_v^s)\\\\\n",
    "=w_a\\Delta S_a +w_v \\Delta S_v\n",
    "\\end{align}"
   ]
  },
  {
   "cell_type": "code",
   "execution_count": null,
   "id": "4f14ff32",
   "metadata": {},
   "outputs": [],
   "source": [
    "# create interactive plot \n",
    "from ipywidgets import interact, FloatSlider, IntSlider\n",
    "#import normal\n",
    "from scipy.stats import norm\n",
    "\n",
    "def generativeModelPlot(sigmaAV_A, sigmaAV_V, S_a,visualConflict,showHistograms=True):\n",
    "    # Go analytic likelihoods\n",
    "    # S: True Stim\n",
    "    S_v=S_a+visualConflict\n",
    "\n",
    "\n",
    "    # plot the likelihoods\n",
    "    plt.figure(figsize=(10, 6))\n",
    "    # line plot probablity distribution of auditory measurement\n",
    "    colorA='teal'\n",
    "    x_a,p_a = likelihood( S_a, np.sqrt(2)*sigmaAV_A) # probability density function for auditory measurement\n",
    "    plt.plot(x_a, p_a, color=colorA, label='Auditory PDF')\n",
    "    plt.axvline(S_a, color=colorA, label= \"Auditory Stimulus\", linestyle='--')\n",
    "\n",
    "    # Plot measurements and true stimulus value for Visual\n",
    "    x_v= np.linspace(S_v - 4*sigmaAV_V, S_v + 4*sigmaAV_V, 500)\n",
    "    colorV='forestgreen'\n",
    "    x_v,p_v=likelihood(S_v,np.sqrt(2)*sigmaAV_V) # args: mean, std and m_v means measurement\n",
    "    plt.plot(x_v, p_v, color=colorV, label='Visual PDF')\n",
    "    plt.axvline(S_v, color=colorV, label= \"Visual Stimulus\", linestyle='--')\n",
    "\n",
    "    # Fused estimate\n",
    "    hat_S_AV , sigma_S_AV_hat= fusionAV(sigmaAV_A, sigmaAV_V, S_a, visualConflict)\n",
    "    plt.axvline(np.mean(hat_S_AV), color='orange', label='$\\hat S_{av}$Fused Estimate', linestyle='--')\n",
    "    \n",
    "    # fused likelihood analytically\n",
    "    J_a = sigmaAV_A**-2  # auditory precision\n",
    "    J_v = sigmaAV_V**-2  # visual precision\n",
    "\n",
    "    w_a = J_a / (J_a + J_v)  # weight for auditory\n",
    "    w_v = 1 - w_a  # weight for visual\n",
    "    mu_Shat = w_a * S_a + w_v * S_v  # fused mean\n",
    "    \n",
    "    x_av = np.linspace(mu_Shat - 4 * sigma_S_AV_hat, mu_Shat + 4 * sigma_S_AV_hat, 500)\n",
    "    p_S_AV= gaussianPDF(x_av,mu_Shat,np.sqrt(2)*sigma_S_AV_hat)\n",
    "\n",
    "    #x_av, p_S_AV = likelihood(mu_Shat, sigma_S_AV_hat)\n",
    "    plt.plot(x_av, p_S_AV, color='orange', label=f'$S$ Fused PDF')\n",
    "    plt.axvline(mu_Shat, color='orange', linestyle='--')\n",
    "\n",
    "    # plot the measurements\n",
    "    if showHistograms:\n",
    "        plt.hist(unimodalMeasurements(sigmaAV_A, S_a), bins=30, density=True, alpha=0.5, color='teal')\n",
    "        plt.hist(unimodalMeasurements(sigmaAV_V, S_v), bins=30, density=True, alpha=0.5, color='forestgreen')\n",
    "        plt.hist(hat_S_AV, bins=30, density=True, alpha=0.5, color='orange' )\n",
    "    plt.title('Generative Model for AV Fusion')\n",
    "    plt.xlabel('Internal Measurement / Estimate')\n",
    "    plt.ylabel('Probability Density')\n",
    "    plt.legend(loc='best')\n",
    "    #plt.tight_layout()\n",
    "    plt.xlim(-1.5,1.5)\n",
    "\n",
    "# Interactive Plotting\n",
    "interact(generativeModelPlot,\n",
    "         sigmaAV_A=widgets.FloatSlider(value=0.2, min=0.1, max=5.0, step=0.1, description='Sigma AV,A'),\n",
    "         sigmaAV_V=widgets.FloatSlider(value=0.2, min=0.1, max=5.0, step=0.1, description='Sigma AV V'),\n",
    "         S_a=widgets.FloatSlider(value=0.3, min=-1.5, max=1.5, step=0.1, description='True Duration S_a'),\n",
    "         visualConflict=widgets.FloatSlider(value=0.9, min=0.0, max=2.0, step=0.1, description='Visual Conflict'),\n",
    "         showHistograms=widgets.Checkbox(value=True, description='Show Histograms'))\n"
   ]
  }
 ],
 "metadata": {
  "kernelspec": {
   "display_name": "mathmod",
   "language": "python",
   "name": "python3"
  },
  "language_info": {
   "codemirror_mode": {
    "name": "ipython",
    "version": 3
   },
   "file_extension": ".py",
   "mimetype": "text/x-python",
   "name": "python",
   "nbconvert_exporter": "python",
   "pygments_lexer": "ipython3",
   "version": "3.11.8"
  }
 },
 "nbformat": 4,
 "nbformat_minor": 5
}
