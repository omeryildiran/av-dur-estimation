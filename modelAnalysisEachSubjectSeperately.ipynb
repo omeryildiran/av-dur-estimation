{
 "cells": [
  {
   "cell_type": "code",
   "execution_count": 1,
   "id": "4ea3ad2c",
   "metadata": {},
   "outputs": [],
   "source": [
    "import numpy as np\n",
    "import pandas as pd\n",
    "import loadData\n",
    "import monteCarloClass\n",
    "import time"
   ]
  },
  {
   "cell_type": "code",
   "execution_count": 2,
   "id": "57bedf87",
   "metadata": {},
   "outputs": [
    {
     "name": "stdout",
     "output_type": "stream",
     "text": [
      "\n",
      " Total trials before cleaning\n",
      ": 2156\n",
      "uniqueSensory: [1.2 0.1] \n",
      " uniqueStandard: [0.5] \n",
      " uniqueConflict: [np.float64(-0.25), np.float64(-0.17), np.float64(-0.08), np.float64(0.0), np.float64(0.08), np.float64(0.17), np.float64(0.25)]\n",
      "total trials after cleaning: 2156\n",
      "Visual test duration range: 0.1072 to 1.0763\n"
     ]
    }
   ],
   "source": [
    "data, dataName = loadData.loadData(\"mt_all.csv\")\n",
    "intensityVariable = \"deltaDurS\"\n",
    "sensoryVar = \"audNoise\"\n",
    "standardVar = \"standardDur\"\n",
    "conflictVar = \"conflictDur\"\n",
    "#s\n",
    "visualStandardVar = \"unbiasedVisualStandardDur\"\n",
    "visualTestVar = \"unbiasedVisualTestDur\"\n",
    "audioStandardVar = \"standardDur\"\n",
    "audioTestVar = \"testDurS\"\n",
    "# Instantiate the Monte Carlo class\n",
    "mc_fitter = monteCarloClass.OmerMonteCarlo(data)\n",
    "print(\"Visual test duration range:\", data[\"recordedDurVisualTest\"].min(), \"to\", data[\"recordedDurVisualTest\"].max())\n",
    "# fit parameters\n",
    "mc_fitter.nStart = 1 # Number of random starts for optimization\n",
    "mc_fitter.nSimul = 500\n",
    "mc_fitter.optimizationMethod= \"bads\"  # Use BADS for optimization\n",
    "mc_fitter.modelName = \"lognorm\"  # Set measurement distribution to Gaussian\n",
    "mc_fitter.integrationMethod = \"analytical\"  # Use numerical integration instead of analytical\n",
    "mc_fitter.freeP_c = False  # Allow different prior widths for conflict conditions\n",
    "mc_fitter.sharedLambda = False  # Use separate lapse rates for each condition\n",
    "mc_fitter.dataName = dataName\n"
   ]
  },
  {
   "cell_type": "code",
   "execution_count": 3,
   "id": "4c0caf95",
   "metadata": {},
   "outputs": [
    {
     "name": "stdout",
     "output_type": "stream",
     "text": [
      "Looking for saved fit: mt_all with model lognorm_LapseFree_sharedPrior\n",
      "Loaded saved fit results:\n",
      "\n",
      "{\n",
      "    \"participantID\": \"mt\",\n",
      "    \"modelType\": \"lognorm_LapseFree_sharedPrior\",\n",
      "    \"fittedParams\": [\n",
      "        0.032721803495229546,\n",
      "        0.15576154849977908,\n",
      "        0.3718890945007365,\n",
      "        0.7982787610074273,\n",
      "        0.46007481075666873,\n",
      "        0.14598556138063035,\n",
      "        0.21001085452070584,\n",
      "        0.5957054038783781,\n",
      "        2.1428683373655852\n",
      "    ],\n",
      "    \"AIC\": 2209.9903735016615,\n",
      "    \"BIC\": 2244.9151703792677,\n",
      "    \"logLikelihood\": -1095.9951867508307,\n",
      "    \"n_conditions\": 358\n",
      "}\n"
     ]
    }
   ],
   "source": [
    "# read back the saved file to verify\n",
    "import os\n",
    "import json\n",
    "import loadResults\n",
    "try:\n",
    "    res=loadResults.loadFitResults(mc_fitter,dataName, modelName=mc_fitter.modelName)\n",
    "    res_with_new_lines = json.dumps(res, indent=4)\n",
    "    print(\"Loaded saved fit results:\\n\")\n",
    "    print(res_with_new_lines)\n",
    "    #print(f\"Loaded saved fit results: {res}\")\n",
    "    mc_fitter.modelFit= res['fittedParams']\n",
    "    mc_fitter.logLikelihood= res['logLikelihood']\n",
    "    mc_fitter.aic= res['AIC']\n",
    "    mc_fitter.bic= res['BIC']\n",
    "    mc_fitter.nDataPoints= res['n_conditions']\n",
    "except:\n",
    "    print(\"No saved fit results found, proceeding to fit the model.\")\n",
    "    user_input = input(\"Do you want to proceed with model fitting? (yes/no): \").strip().lower()\n",
    "    if user_input != 'yes':\n",
    "        print(\"Model fitting skipped.\")\n",
    "        \n",
    "    timeStart = time.time()\n",
    "    print(f\"\\nFitting Causal Inference Model for {dataName} with {len(mc_fitter.groupedData)} unique conditions\")\n",
    "    fittedParams = mc_fitter.fitCausalInferenceMonteCarlo(mc_fitter.groupedData)\n",
    "    print(f\"\\nFitted parameters for {dataName}: {fittedParams}\")\n",
    "    print(f\"Time taken to fit: {time.time() - timeStart:.2f} seconds\")\n",
    "    mc_fitter.modelFit= fittedParams\n",
    "    mc_fitter.logLikelihood= -mc_fitter.nLLMonteCarloCausal(fittedParams, mc_fitter.groupedData)    \n",
    "    \n",
    "    #save the fit results\n",
    "    import fitSaver\n",
    "    fitSaver.saveFitResultsSingle(mc_fitter, mc_fitter.modelFit, dataName)"
   ]
  },
  {
   "cell_type": "markdown",
   "id": "7d219660",
   "metadata": {},
   "source": [
    "## Simulate data using fitted parameters"
   ]
  },
  {
   "cell_type": "code",
   "execution_count": 4,
   "id": "e558b6aa",
   "metadata": {},
   "outputs": [
    {
     "name": "stdout",
     "output_type": "stream",
     "text": [
      "Loaded saved simulated data from simulated_data/mt/mt_lognorm_LapseFree_sharedPrior_simulated.csv\n"
     ]
    }
   ],
   "source": [
    "#proceed to simulate and save to {filename}\n",
    "import fitSaver\n",
    "import os\n",
    "def loadSimulatedData(mc_fitter, dataName,participantID, modelType=mc_fitter.modelName):\n",
    "    participantID = dataName.split(\".csv\")[0]\n",
    "    #modelType = mc_fitter.modelName\n",
    "\n",
    "    if mc_fitter.sharedLambda:\n",
    "        modelType += \"_LapseFix\"\n",
    "    else:\n",
    "        modelType += \"_LapseFree\"\n",
    "\n",
    "    if mc_fitter.freeP_c:\n",
    "        modelType += \"_contextualPrior\"\n",
    "    else:\n",
    "        modelType += \"_sharedPrior\"\n",
    "\n",
    "    filename = f\"{participantID.split('_')[0]}_{modelType}_simulated.csv\"\n",
    "    filename = os.path.join(\"simulated_data\",participantID.split('_')[0], filename)\n",
    "    try:\n",
    "        \n",
    "        simulatedData= pd.read_csv(filename)\n",
    "        print(f\"Loaded saved simulated data from {filename}\")\n",
    "        return simulatedData\n",
    "\n",
    "    except:\n",
    "        user_input = input(f\"No saved simulated data found at {filename}. Do you want to simulate and save the data? (yes/no): \").strip().lower()\n",
    "        if user_input != 'yes':\n",
    "            print(\"No simulation found and selected to go with new sim.\")\n",
    "        else:\n",
    "            return None\n",
    "        print(f\"No saved simulated data found at {filename}\")\n",
    "        fitSaver.saveSimulatedData(mc_fitter, mc_fitter.dataName)\n",
    "        mc_fitter.simulatedData= pd.read_csv(filename)\n",
    "        print(f\"Simulated data saved to {filename}\")\n",
    "        return mc_fitter.simulatedData\n",
    "#proceed to simulate and save to {filename}\n",
    "mc_fitter.simulatedData=loadSimulatedData(mc_fitter, mc_fitter.dataName, participantID=dataName.split(\".csv\")[0], modelType=mc_fitter.modelName)\n",
    "\n"
   ]
  },
  {
   "cell_type": "code",
   "execution_count": 5,
   "id": "fd3ac57b",
   "metadata": {},
   "outputs": [],
   "source": [
    "# so now we have loaded the simulated data, fitted parameters, loglikelihood, aic, bic"
   ]
  },
  {
   "cell_type": "code",
   "execution_count": null,
   "id": "b7dc4f29",
   "metadata": {},
   "outputs": [
    {
     "name": "stdout",
     "output_type": "stream",
     "text": [
      "✅ Loaded real data psychometric fit for mt\n",
      "   AIC: 2242.25, Params: 42\n",
      "✅ Loaded simulated data psychometric fit for mt\n",
      "   AIC: 65648.92, Params: 42\n"
     ]
    }
   ],
   "source": [
    "# Load psychometric fits for both data and simulated data\n",
    "import importlib\n",
    "import psychometricFitLoader as pfl_data\n",
    "import psychometricFitLoader_simulated as pfl_sim\n",
    "\n",
    "# Get participant ID\n",
    "dataID = dataName.split(\"_\")[0]\n",
    "\n",
    "# Load real data psychometric fit\n",
    "mc_fitter.dataFit = pfl_data.load_psychometric_fit(dataID)\n",
    "print(f\"✅ Loaded real data psychometric fit for {dataID}\")\n",
    "print(f\"   AIC: {mc_fitter.dataFit['AIC']:.2f}, Params: {mc_fitter.dataFit['n_params']}\")\n",
    "# Load simulated data psychometric fit\n",
    "mc_fitter.simulatedFit = pfl_sim.load_psychometric_fit_simulated(dataID, 'lognorm_LapseFree_sharedPrior')\n",
    "print(f\"✅ Loaded simulated data psychometric fit for {dataID}\")\n",
    "print(f\"   AIC: {mc_fitter.simulatedFit['AIC']:.2f}, Params: {mc_fitter.simulatedFit['n_params']}\")\n"
   ]
  },
  {
   "cell_type": "code",
   "execution_count": null,
   "id": "088f0094",
   "metadata": {},
   "outputs": [],
   "source": [
    "\n",
    "\n",
    "print(f\"✅ Loaded real data psychometric fit for {dataID}\")\n",
    "print(f\"   AIC: {mc_fitter.dataFit['AIC']:.2f}, Params: {mc_fitter.dataFit['n_params']}\")\n",
    "\n",
    "# Load simulated data psychometric fit\n",
    "try:\n",
    "    mc_fitter.simDataFit = pfl_sim.load_psychometric_fit_simulated(\n",
    "        dataID, \n",
    "        'lognorm_LapseFree_sharedPrior'\n",
    "    )\n",
    "    print(f\"✅ Loaded simulated psychometric fit for {dataID}\")\n",
    "    print(f\"   AIC: {mc_fitter.simDataFit['AIC']:.2f}, Params: {mc_fitter.simDataFit['n_params']}\")\n",
    "    \n",
    "    # Compare data vs simulated\n",
    "    comparison = pfl_sim.compare_data_vs_simulated(\n",
    "        dataID, \n",
    "        'lognorm_LapseFree_sharedPrior',\n",
    "        data_fits_dir='psychometric_fits_data',\n",
    "        sim_fits_dir='psychometric_fits_simulated'\n",
    "    )\n",
    "    print(f\"\\n📊 Comparison:\")\n",
    "    print(f\"   Data AIC: {comparison['data_AIC']:.2f}\")\n",
    "    print(f\"   Simulated AIC: {comparison['simulated_AIC']:.2f}\")\n",
    "    print(f\"   Delta AIC: {comparison['delta_AIC']:.2f}\")\n",
    "    \n",
    "except FileNotFoundError as e:\n",
    "    print(f\"⚠️  Simulated fit not found: {e}\")\n",
    "    print(f\"   Run: python runDataFitter_simulated.py\")"
   ]
  },
  {
   "cell_type": "markdown",
   "id": "2f571753",
   "metadata": {},
   "source": [
    "# Plot the fits"
   ]
  }
 ],
 "metadata": {
  "kernelspec": {
   "display_name": "mathmod",
   "language": "python",
   "name": "python3"
  },
  "language_info": {
   "codemirror_mode": {
    "name": "ipython",
    "version": 3
   },
   "file_extension": ".py",
   "mimetype": "text/x-python",
   "name": "python",
   "nbconvert_exporter": "python",
   "pygments_lexer": "ipython3",
   "version": "3.11.8"
  }
 },
 "nbformat": 4,
 "nbformat_minor": 5
}
