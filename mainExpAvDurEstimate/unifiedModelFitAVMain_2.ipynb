{
 "cells": [
  {
   "cell_type": "code",
   "execution_count": 1,
   "metadata": {},
   "outputs": [],
   "source": [
    "# import necessary libraries\n",
    "import numpy as np\n",
    "import matplotlib.pyplot as plt\n",
    "import seaborn as sns\n",
    "import pandas as pd\n",
    "import os"
   ]
  },
  {
   "cell_type": "code",
   "execution_count": 2,
   "metadata": {},
   "outputs": [
    {
     "name": "stdout",
     "output_type": "stream",
     "text": [
      "/Users/omer/Library/CloudStorage/GoogleDrive-omerulfaruk97@gmail.com/My Drive/MyReposDrive/obsidian_Notes/Landy Omer Re 1/av-dur-estimation/mainExpAvDurEstimate\n"
     ]
    }
   ],
   "source": [
    "# print folder directory\n",
    "print(os.getcwd())"
   ]
  },
  {
   "cell_type": "code",
   "execution_count": 3,
   "metadata": {},
   "outputs": [],
   "source": [
    "#load data\n",
    "dataName=\"_mainExpAvDurEstimate_2025-04-15_10h10.47.483.csv\"\n",
    "#\"_mainExpAvDurEstimate_2025-03-27_15h13.32.171.csv\"\n",
    "#\"_visualDurEstimate_2025-03-12_20h35.26.573.csv\"\n",
    "\n",
    "data = pd.read_csv(\"dataAvMain/\"+dataName)\n",
    "data[:4]\n",
    "data['avgAVDeltaS'] = (data['deltaDurS'] + (data['recordedDurVisualTest'] - data['recordedDurVisualStandard'])) / 2\n",
    "# Calculate deltaDurPercentVisual just as the difference between the test and standard visual durations over the standard visual duration\n",
    "data['deltaDurPercentVisual'] = ((data['recordedDurVisualTest'] - data['recordedDurVisualStandard']) / data['recordedDurVisualStandard'] \n",
    ")\n",
    "data['avgAVDeltaPercent'] = data[['delta_dur_percents', 'deltaDurPercentVisual']].mean(axis=1)\n",
    "data\n",
    "\n",
    "# Define columns for chosing test or standard\n",
    "data['chose_test'] = (data['responses'] == data['order']).astype(int)\n",
    "data['chose_standard'] = (data['responses'] != data['order']).astype(int)\n",
    "try:\n",
    "    data[\"riseDur\"]>1\n",
    "except:\n",
    "    data[\"riseDur\"]=1\n",
    "\n",
    "data['standard_dur']=data['standardDur']\n",
    "data[:3]\n",
    "data = data[data['audNoise'] != 0]\n",
    "data['visualPSEBias'] = data['recordedDurVisualStandard'] -data[\"standardDur\"]-data['conflictDur']\n",
    "data=data[data['recordedDurVisualStandard'] <=998]"
   ]
  },
  {
   "cell_type": "code",
   "execution_count": 4,
   "metadata": {},
   "outputs": [],
   "source": [
    "#intensityVariable=\"avgAVDeltaS\"\n",
    "intensityVariable=\"avgAVDeltaPercent\"\n",
    "#intensityVariable=\"deltaDurS\"\n",
    "#intensityVariable=\"deltaDurPercentVisual\"\n"
   ]
  },
  {
   "cell_type": "markdown",
   "metadata": {},
   "source": [
    "# Get unique conditions"
   ]
  },
  {
   "cell_type": "code",
   "execution_count": 16,
   "metadata": {},
   "outputs": [
    {
     "name": "stdout",
     "output_type": "stream",
     "text": [
      "uniqueSensory: [1.2 0.1] \n",
      " uniqueStandard: [0.49837] \n",
      " uniqueConflict: [ 0.16612 -0.24919  0.08306 -0.08306]\n"
     ]
    }
   ],
   "source": [
    "sensoryVar=\"audNoise\"\n",
    "standardVar=\"standardDur\"\n",
    "conflictVar=\"conflictDur\"\n",
    "\n",
    "uniqueSensory = data[sensoryVar].unique()\n",
    "uniqueStandard = data[standardVar].unique()\n",
    "uniqueConflict = data[conflictVar].unique()\n",
    "print(f\"uniqueSensory: {uniqueSensory} \\n uniqueStandard: {uniqueStandard} \\n uniqueConflict: {uniqueConflict}\")"
   ]
  },
  {
   "cell_type": "code",
   "execution_count": 50,
   "metadata": {},
   "outputs": [
    {
     "name": "stdout",
     "output_type": "stream",
     "text": [
      "nParams: 11.0\n"
     ]
    }
   ],
   "source": [
    "def createParamVector(data, standardVar,sensoryVar,conflictVar):\n",
    "    \"\"\"\n",
    "    Create a parameter vector for the data.\n",
    "    \"\"\"\n",
    "    nLambda=len(uniqueStandard)   \n",
    "    nSigma=len(uniqueSensory)\n",
    "    nMu=len(uniqueConflict)*nSigma\n",
    "    paramMatrix = np.zeros((nMu, 3))\n",
    "\n",
    "    nParams=nLambda+nSigma+nSigma*(nMu/nSigma)\n",
    "    print(f\"nParams: {nParams}\")\n",
    "    # Create the parameter vector\n",
    "    for i, standard in enumerate(uniqueStandard):\n",
    "        for j, sensory in enumerate(uniqueSensory):\n",
    "            for k, conflict in enumerate(uniqueConflict):\n",
    "                # Calculate the index for the parameter vector\n",
    "                index = i * nSigma + j * len(uniqueConflict) + k\n",
    "                # Assign the values to the parameter vector\n",
    "                paramMatrix[index, 0] = standard\n",
    "                paramMatrix[index, 1] = sensory\n",
    "                paramMatrix[index, 2] = conflict\n",
    "    \n",
    "    paramMatrix = pd.DataFrame(paramMatrix, columns=[standardVar, sensoryVar, conflictVar])\n",
    "    paramVector= [0]*int(nParams)\n",
    "    return paramVector, paramMatrix, nLambda, nSigma, nMu\n",
    "\n",
    "params,paramMatrix,nLambda, nSigma, nMu=createParamVector(data,standardVar,sensoryVar,conflictVar)\n",
    "params\n",
    "\n",
    "def initGuesses(paramVector):\n",
    "    \"\"\"\n",
    "    Initialize the guesses for the parameters.\n",
    "    \"\"\"\n",
    "    # Initialize the guesses for the parameters\n",
    "    #lambda guesses\n",
    "    for i in range(nLambda):\n",
    "        paramVector[i] = 0.5\n",
    "    #sigma guesses\n",
    "    for i in range(nLambda, nLambda+nSigma):\n",
    "        paramVector[i] = 0.5\n",
    "    #mu guesses\n",
    "    for i in range(nLambda+nSigma, nLambda+nSigma+nMu):\n",
    "        paramVector[i] = 0.5\n",
    "    return paramVector\n",
    "paramVector = initGuesses(params)\n",
    "    "
   ]
  },
  {
   "cell_type": "code",
   "execution_count": 37,
   "metadata": {},
   "outputs": [],
   "source": [
    "from scipy.stats import norm\n",
    "from scipy.optimize import minimize\n",
    "\n",
    "def psychometric_function(x, lambda_, mu, sigma):\n",
    "    # Cumulative distribution function with mean mu and standard deviation sigma\n",
    "    cdf = norm.cdf(x, loc=mu, scale=sigma) \n",
    "    # take into account of lapse rate and return the probability of choosing test\n",
    "    p = lambda_/2 + (1-lambda_) * norm.cdf((x - mu) / sigma)\n",
    "    #return lapse_rate * 0.5 + (1 - lapse_rate) * cdf \n",
    "    return p\n",
    "\n",
    "    #p = lambda_/2 + (1-lambda_) * norm.cdf((x - mu) / sigma)\n",
    "\n",
    "# Negative log-likelihood\n",
    "def negative_log_likelihood(params, delta_dur, chose_test, total_responses):\n",
    "    lambda_, mu, sigma = params # Unpack parameters\n",
    "    \n",
    "    p = psychometric_function(delta_dur, lambda_, mu, sigma) # Compute probability of choosing test\n",
    "    epsilon = 1e-9 # Add a small number to avoid log(0) when calculating thxe log-likelihood\n",
    "    p = np.clip(p, epsilon, 1 - epsilon) # Clip p to avoid log(0) and log(1)\n",
    "    # Compute the negative log-likelihood\n",
    "    log_likelihood = np.sum(chose_test * np.log(p) + (total_responses - chose_test) * np.log(1 - p))\n",
    "    return -log_likelihood\n",
    "\n",
    "\n",
    "# Fit psychometric function\n",
    "def fit_psychometric_function(levels,nResp, totalResp,init_guesses=[0,0,0]):\n",
    "    # then fits the psychometric function\n",
    "    # order is lambda mu sigma\n",
    "    #initial_guess = [0, -0.2, 0.05]  # Initial guess for [lambda, mu, sigma]\n",
    "    bounds = [(0, 0.2), (-0.4, +0.4), (0.01, 1)]  # Reasonable bounds\n",
    "    # fitting is done here\n",
    "    result = minimize(\n",
    "        negative_log_likelihood, x0=init_guesses, \n",
    "        args=(levels, nResp, totalResp),  # Pass the data and fixed parameters\n",
    "        bounds=bounds,\n",
    "        method='Nelder-Mead'\n",
    "    )\n",
    "    # returns the fitted parameters lambda, mu, sigma\n",
    "    return result.x\n",
    "\n"
   ]
  },
  {
   "cell_type": "code",
   "execution_count": 38,
   "metadata": {},
   "outputs": [],
   "source": [
    "\n",
    "def groupByChooseTest(x):\n",
    "    grouped = x.groupby([intensityVariable, 'riseDur', 'standardDur','conflictDur']).agg(\n",
    "        num_of_chose_test=('chose_test', 'sum'),\n",
    "        total_responses=('responses', 'count'),\n",
    "        num_of_chose_standard=('chose_standard', 'sum'),\n",
    "    ).reset_index()\n",
    "    grouped['p_choose_test'] = grouped['num_of_chose_test'] / grouped['total_responses']\n",
    "\n",
    "    return grouped\n",
    "\n",
    "groupedData= groupByChooseTest(data)"
   ]
  },
  {
   "cell_type": "code",
   "execution_count": 39,
   "metadata": {},
   "outputs": [
    {
     "data": {
      "application/vnd.microsoft.datawrangler.viewer.v0+json": {
       "columns": [
        {
         "name": "index",
         "rawType": "int64",
         "type": "integer"
        },
        {
         "name": "avgAVDeltaPercent",
         "rawType": "float64",
         "type": "float"
        },
        {
         "name": "riseDur",
         "rawType": "int64",
         "type": "integer"
        },
        {
         "name": "standardDur",
         "rawType": "float64",
         "type": "float"
        },
        {
         "name": "conflictDur",
         "rawType": "float64",
         "type": "float"
        },
        {
         "name": "num_of_chose_test",
         "rawType": "int64",
         "type": "integer"
        },
        {
         "name": "total_responses",
         "rawType": "int64",
         "type": "integer"
        },
        {
         "name": "num_of_chose_standard",
         "rawType": "int64",
         "type": "integer"
        },
        {
         "name": "p_choose_test",
         "rawType": "float64",
         "type": "float"
        }
       ],
       "conversionMethod": "pd.DataFrame",
       "ref": "6a67d827-8d07-4455-aa23-0d1da15988b5",
       "rows": [
        [
         "0",
         "-11.499399399399397",
         "1",
         "0.49837",
         "-0.24919",
         "1",
         "1",
         "0",
         "1.0"
        ],
        [
         "1",
         "-9.458662613981764",
         "1",
         "0.49837",
         "-0.24919",
         "1",
         "1",
         "0",
         "1.0"
        ],
        [
         "2",
         "-7.726544072948328",
         "1",
         "0.49837",
         "-0.24919",
         "1",
         "1",
         "0",
         "1.0"
        ],
        [
         "3",
         "-7.666156626506024",
         "1",
         "0.49837",
         "-0.24919",
         "1",
         "1",
         "0",
         "1.0"
        ],
        [
         "4",
         "-7.655614457831325",
         "1",
         "0.49837",
         "-0.24919",
         "1",
         "1",
         "0",
         "1.0"
        ],
        [
         "5",
         "-7.642765765765764",
         "1",
         "0.49837",
         "-0.24919",
         "1",
         "1",
         "0",
         "1.0"
        ],
        [
         "6",
         "-7.558547619047619",
         "1",
         "0.49837",
         "-0.24919",
         "1",
         "1",
         "0",
         "1.0"
        ],
        [
         "7",
         "-7.304602409638554",
         "1",
         "0.49837",
         "-0.24919",
         "1",
         "1",
         "0",
         "1.0"
        ],
        [
         "8",
         "-7.277873873873872",
         "1",
         "0.49837",
         "-0.24919",
         "1",
         "1",
         "0",
         "1.0"
        ],
        [
         "9",
         "-7.2368358208955215",
         "1",
         "0.49837",
         "-0.24919",
         "1",
         "1",
         "0",
         "1.0"
        ],
        [
         "10",
         "-6.929498498498498",
         "1",
         "0.49837",
         "-0.24919",
         "0",
         "1",
         "1",
         "0.0"
        ],
        [
         "11",
         "-6.91602994011976",
         "1",
         "0.49837",
         "-0.24919",
         "1",
         "1",
         "0",
         "1.0"
        ],
        [
         "12",
         "-6.890821428571429",
         "1",
         "0.49837",
         "-0.24919",
         "0",
         "1",
         "1",
         "0.0"
        ],
        [
         "13",
         "-6.449017964071857",
         "1",
         "0.49837",
         "-0.24919",
         "0",
         "1",
         "1",
         "0.0"
        ],
        [
         "14",
         "-6.426750000000001",
         "1",
         "0.49837",
         "-0.24919",
         "0",
         "1",
         "1",
         "0.0"
        ],
        [
         "15",
         "-6.42079761904762",
         "1",
         "0.49837",
         "-0.24919",
         "1",
         "1",
         "0",
         "1.0"
        ],
        [
         "16",
         "-6.414845238095239",
         "1",
         "0.49837",
         "-0.24919",
         "1",
         "1",
         "0",
         "1.0"
        ],
        [
         "17",
         "-6.395685459940653",
         "1",
         "0.49837",
         "-0.24919",
         "0",
         "1",
         "1",
         "0.0"
        ],
        [
         "18",
         "-6.383816023738873",
         "1",
         "0.49837",
         "-0.24919",
         "1",
         "1",
         "0",
         "1.0"
        ],
        [
         "19",
         "-5.877030674846626",
         "1",
         "0.49837",
         "-0.24919",
         "0",
         "1",
         "1",
         "0.0"
        ],
        [
         "20",
         "-5.876876876876876",
         "1",
         "0.49837",
         "-0.24919",
         "0",
         "1",
         "1",
         "0.0"
        ],
        [
         "21",
         "-5.860778443113772",
         "1",
         "0.49837",
         "-0.24919",
         "0",
         "1",
         "1",
         "0.0"
        ],
        [
         "22",
         "-5.707845697329376",
         "1",
         "0.49837",
         "-0.24919",
         "1",
         "1",
         "0",
         "1.0"
        ],
        [
         "23",
         "-5.694757009345794",
         "1",
         "0.49837",
         "-0.24919",
         "1",
         "1",
         "0",
         "1.0"
        ],
        [
         "24",
         "-5.667432098765432",
         "1",
         "0.49837",
         "-0.24919",
         "0",
         "1",
         "1",
         "0.0"
        ],
        [
         "25",
         "-5.564764350453173",
         "1",
         "0.49837",
         "-0.24919",
         "1",
         "1",
         "0",
         "1.0"
        ],
        [
         "26",
         "-5.560232628398793",
         "1",
         "0.49837",
         "-0.24919",
         "1",
         "1",
         "0",
         "1.0"
        ],
        [
         "27",
         "-5.5480843373493975",
         "1",
         "0.49837",
         "-0.24919",
         "1",
         "1",
         "0",
         "1.0"
        ],
        [
         "28",
         "-5.504611940298507",
         "1",
         "0.49837",
         "-0.24919",
         "0",
         "1",
         "1",
         "0.0"
        ],
        [
         "29",
         "-5.472103857566766",
         "1",
         "0.49837",
         "-0.24919",
         "1",
         "1",
         "0",
         "1.0"
        ],
        [
         "30",
         "-5.461911242603551",
         "1",
         "0.49837",
         "-0.24919",
         "0",
         "1",
         "1",
         "0.0"
        ],
        [
         "31",
         "-5.41025748502994",
         "1",
         "0.49837",
         "-0.24919",
         "1",
         "1",
         "0",
         "1.0"
        ],
        [
         "32",
         "-5.405366366366366",
         "1",
         "0.49837",
         "-0.24919",
         "0",
         "1",
         "1",
         "0.0"
        ],
        [
         "33",
         "-5.262895705521474",
         "1",
         "0.49837",
         "-0.24919",
         "1",
         "1",
         "0",
         "1.0"
        ],
        [
         "34",
         "-5.210060606060605",
         "1",
         "0.49837",
         "-0.24919",
         "1",
         "1",
         "0",
         "1.0"
        ],
        [
         "35",
         "-5.199015105740182",
         "1",
         "0.49837",
         "-0.24919",
         "0",
         "1",
         "1",
         "0.0"
        ],
        [
         "36",
         "-5.193639639639639",
         "1",
         "0.49837",
         "-0.24919",
         "0",
         "1",
         "1",
         "0.0"
        ],
        [
         "37",
         "-5.19255421686747",
         "1",
         "0.49837",
         "-0.24919",
         "0",
         "2",
         "2",
         "0.0"
        ],
        [
         "38",
         "-5.186132132132132",
         "1",
         "0.49837",
         "-0.24919",
         "0",
         "1",
         "1",
         "0.0"
        ],
        [
         "39",
         "-5.171117117117117",
         "1",
         "0.49837",
         "-0.24919",
         "0",
         "1",
         "1",
         "0.0"
        ],
        [
         "40",
         "-5.169765765765765",
         "1",
         "0.49837",
         "-0.24919",
         "1",
         "1",
         "0",
         "1.0"
        ],
        [
         "41",
         "-5.16777245508982",
         "1",
         "0.49837",
         "-0.24919",
         "1",
         "1",
         "0",
         "1.0"
        ],
        [
         "42",
         "-5.1551904761904765",
         "1",
         "0.49837",
         "-0.24919",
         "0",
         "1",
         "1",
         "0.0"
        ],
        [
         "43",
         "-5.143520958083832",
         "1",
         "0.49837",
         "-0.24919",
         "1",
         "1",
         "0",
         "1.0"
        ],
        [
         "44",
         "-5.11977380952381",
         "1",
         "0.49837",
         "-0.24919",
         "1",
         "1",
         "0",
         "1.0"
        ],
        [
         "45",
         "-5.090873156342183",
         "1",
         "0.49837",
         "-0.24919",
         "0",
         "1",
         "1",
         "0.0"
        ],
        [
         "46",
         "-5.085952662721894",
         "1",
         "0.49837",
         "-0.24919",
         "1",
         "1",
         "0",
         "1.0"
        ],
        [
         "47",
         "-4.966302114803626",
         "1",
         "0.49837",
         "-0.24919",
         "0",
         "1",
         "1",
         "0.0"
        ],
        [
         "48",
         "-4.924208955223881",
         "1",
         "0.49837",
         "-0.24919",
         "0",
         "1",
         "1",
         "0.0"
        ],
        [
         "49",
         "-4.91376119402985",
         "1",
         "0.49837",
         "-0.24919",
         "0",
         "1",
         "1",
         "0.0"
        ]
       ],
       "shape": {
        "columns": 8,
        "rows": 1218
       }
      },
      "text/html": [
       "<div>\n",
       "<style scoped>\n",
       "    .dataframe tbody tr th:only-of-type {\n",
       "        vertical-align: middle;\n",
       "    }\n",
       "\n",
       "    .dataframe tbody tr th {\n",
       "        vertical-align: top;\n",
       "    }\n",
       "\n",
       "    .dataframe thead th {\n",
       "        text-align: right;\n",
       "    }\n",
       "</style>\n",
       "<table border=\"1\" class=\"dataframe\">\n",
       "  <thead>\n",
       "    <tr style=\"text-align: right;\">\n",
       "      <th></th>\n",
       "      <th>avgAVDeltaPercent</th>\n",
       "      <th>riseDur</th>\n",
       "      <th>standardDur</th>\n",
       "      <th>conflictDur</th>\n",
       "      <th>num_of_chose_test</th>\n",
       "      <th>total_responses</th>\n",
       "      <th>num_of_chose_standard</th>\n",
       "      <th>p_choose_test</th>\n",
       "    </tr>\n",
       "  </thead>\n",
       "  <tbody>\n",
       "    <tr>\n",
       "      <th>0</th>\n",
       "      <td>-11.499399</td>\n",
       "      <td>1</td>\n",
       "      <td>0.49837</td>\n",
       "      <td>-0.24919</td>\n",
       "      <td>1</td>\n",
       "      <td>1</td>\n",
       "      <td>0</td>\n",
       "      <td>1.0</td>\n",
       "    </tr>\n",
       "    <tr>\n",
       "      <th>1</th>\n",
       "      <td>-9.458663</td>\n",
       "      <td>1</td>\n",
       "      <td>0.49837</td>\n",
       "      <td>-0.24919</td>\n",
       "      <td>1</td>\n",
       "      <td>1</td>\n",
       "      <td>0</td>\n",
       "      <td>1.0</td>\n",
       "    </tr>\n",
       "    <tr>\n",
       "      <th>2</th>\n",
       "      <td>-7.726544</td>\n",
       "      <td>1</td>\n",
       "      <td>0.49837</td>\n",
       "      <td>-0.24919</td>\n",
       "      <td>1</td>\n",
       "      <td>1</td>\n",
       "      <td>0</td>\n",
       "      <td>1.0</td>\n",
       "    </tr>\n",
       "    <tr>\n",
       "      <th>3</th>\n",
       "      <td>-7.666157</td>\n",
       "      <td>1</td>\n",
       "      <td>0.49837</td>\n",
       "      <td>-0.24919</td>\n",
       "      <td>1</td>\n",
       "      <td>1</td>\n",
       "      <td>0</td>\n",
       "      <td>1.0</td>\n",
       "    </tr>\n",
       "    <tr>\n",
       "      <th>4</th>\n",
       "      <td>-7.655614</td>\n",
       "      <td>1</td>\n",
       "      <td>0.49837</td>\n",
       "      <td>-0.24919</td>\n",
       "      <td>1</td>\n",
       "      <td>1</td>\n",
       "      <td>0</td>\n",
       "      <td>1.0</td>\n",
       "    </tr>\n",
       "    <tr>\n",
       "      <th>...</th>\n",
       "      <td>...</td>\n",
       "      <td>...</td>\n",
       "      <td>...</td>\n",
       "      <td>...</td>\n",
       "      <td>...</td>\n",
       "      <td>...</td>\n",
       "      <td>...</td>\n",
       "      <td>...</td>\n",
       "    </tr>\n",
       "    <tr>\n",
       "      <th>1213</th>\n",
       "      <td>2.217908</td>\n",
       "      <td>1</td>\n",
       "      <td>0.49837</td>\n",
       "      <td>-0.08306</td>\n",
       "      <td>1</td>\n",
       "      <td>1</td>\n",
       "      <td>0</td>\n",
       "      <td>1.0</td>\n",
       "    </tr>\n",
       "    <tr>\n",
       "      <th>1214</th>\n",
       "      <td>2.227286</td>\n",
       "      <td>1</td>\n",
       "      <td>0.49837</td>\n",
       "      <td>-0.08306</td>\n",
       "      <td>1</td>\n",
       "      <td>1</td>\n",
       "      <td>0</td>\n",
       "      <td>1.0</td>\n",
       "    </tr>\n",
       "    <tr>\n",
       "      <th>1215</th>\n",
       "      <td>2.744711</td>\n",
       "      <td>1</td>\n",
       "      <td>0.49837</td>\n",
       "      <td>-0.08306</td>\n",
       "      <td>1</td>\n",
       "      <td>1</td>\n",
       "      <td>0</td>\n",
       "      <td>1.0</td>\n",
       "    </tr>\n",
       "    <tr>\n",
       "      <th>1216</th>\n",
       "      <td>2.744828</td>\n",
       "      <td>1</td>\n",
       "      <td>0.49837</td>\n",
       "      <td>-0.08306</td>\n",
       "      <td>1</td>\n",
       "      <td>1</td>\n",
       "      <td>0</td>\n",
       "      <td>1.0</td>\n",
       "    </tr>\n",
       "    <tr>\n",
       "      <th>1217</th>\n",
       "      <td>2.747107</td>\n",
       "      <td>1</td>\n",
       "      <td>0.49837</td>\n",
       "      <td>-0.08306</td>\n",
       "      <td>1</td>\n",
       "      <td>1</td>\n",
       "      <td>0</td>\n",
       "      <td>1.0</td>\n",
       "    </tr>\n",
       "  </tbody>\n",
       "</table>\n",
       "<p>1218 rows × 8 columns</p>\n",
       "</div>"
      ],
      "text/plain": [
       "      avgAVDeltaPercent  riseDur  standardDur  conflictDur  num_of_chose_test  \\\n",
       "0            -11.499399        1      0.49837     -0.24919                  1   \n",
       "1             -9.458663        1      0.49837     -0.24919                  1   \n",
       "2             -7.726544        1      0.49837     -0.24919                  1   \n",
       "3             -7.666157        1      0.49837     -0.24919                  1   \n",
       "4             -7.655614        1      0.49837     -0.24919                  1   \n",
       "...                 ...      ...          ...          ...                ...   \n",
       "1213           2.217908        1      0.49837     -0.08306                  1   \n",
       "1214           2.227286        1      0.49837     -0.08306                  1   \n",
       "1215           2.744711        1      0.49837     -0.08306                  1   \n",
       "1216           2.744828        1      0.49837     -0.08306                  1   \n",
       "1217           2.747107        1      0.49837     -0.08306                  1   \n",
       "\n",
       "      total_responses  num_of_chose_standard  p_choose_test  \n",
       "0                   1                      0            1.0  \n",
       "1                   1                      0            1.0  \n",
       "2                   1                      0            1.0  \n",
       "3                   1                      0            1.0  \n",
       "4                   1                      0            1.0  \n",
       "...               ...                    ...            ...  \n",
       "1213                1                      0            1.0  \n",
       "1214                1                      0            1.0  \n",
       "1215                1                      0            1.0  \n",
       "1216                1                      0            1.0  \n",
       "1217                1                      0            1.0  \n",
       "\n",
       "[1218 rows x 8 columns]"
      ]
     },
     "execution_count": 39,
     "metadata": {},
     "output_type": "execute_result"
    }
   ],
   "source": [
    "groupedData"
   ]
  },
  {
   "cell_type": "code",
   "execution_count": 40,
   "metadata": {},
   "outputs": [],
   "source": [
    "# Compute sigma from slope\n",
    "def compute_sigma_from_slope(slope, lapse_rate=0.02):\n",
    "    sigma = (1 - lapse_rate) / (np.sqrt(2 * np.pi) * slope)*np.exp(-0.5)\n",
    "    return sigma\n"
   ]
  },
  {
   "cell_type": "code",
   "execution_count": 41,
   "metadata": {},
   "outputs": [
    {
     "name": "stdout",
     "output_type": "stream",
     "text": [
      "Initial guesses: [0.03, 2.078933727666093, 6.781891312832998]\n"
     ]
    }
   ],
   "source": [
    "from scipy.stats import linregress\n",
    "def estimate_initial_guesses(levels,chooseTest,totalResp, max_sigma_ratio=0.2):\n",
    "    \"\"\"\n",
    "    Estimate initial guesses for lambda, mu, and sigma with slope adjustment and sigma regularization.\n",
    "    \"\"\"\n",
    "    intensities = levels\n",
    "    chose_test = chooseTest\n",
    "    total_resp = totalResp\n",
    "    \n",
    "    # Compute proportion of \"chose test\"\n",
    "    proportions = chose_test / total_resp\n",
    "    \n",
    "    # Perform linear regression to estimate slope and intercept\n",
    "    slope, intercept, _, _, _ = linregress(intensities, proportions)\n",
    "    mu_guess = (0.5 - intercept) / slope\n",
    "\n",
    "    #print(slope, intercept)\n",
    "    lapse_rate_guess= 0.03  # 5% as a reasonable guess\n",
    "    sigma_guess= compute_sigma_from_slope(slope,lapse_rate_guess)-0.1\n",
    "\n",
    "    # Regularize sigma to avoid overestimation\n",
    "    intensity_range = np.abs(max(intensities)) - np.abs(min(intensities))\n",
    "    \n",
    "    return [lapse_rate_guess, mu_guess, sigma_guess]\n",
    "\n",
    "single_init_guesses = estimate_initial_guesses(\n",
    "    groupedData[intensityVariable],\n",
    "    groupedData['num_of_chose_test'],\n",
    "    groupedData['total_responses']\n",
    ")\n",
    "print(\"Initial guesses:\", single_init_guesses)"
   ]
  },
  {
   "cell_type": "code",
   "execution_count": 42,
   "metadata": {},
   "outputs": [],
   "source": [
    "def negative_log_likelihood_unified(params, delta_dur, chose_tests, total_responses, conflicts, noise_levels):\n",
    "    lambda_ = params[0]  # Lapse rate\n",
    "    sigmaA = params[1]   # Standard deviation for audioNoise 0.1\n",
    "    sigmaB = params[2]   # Standard deviation for audioNoise 1.2\n",
    "    \n",
    "    # Mean parameters for different conditions\n",
    "    muAminus50 = params[3]  # Mean for audioNoise 0.1 and conflict -0.05\n",
    "    muA0 = params[4]        # Mean for audioNoise 0.1 and conflict 0\n",
    "    muAplus50 = params[5]   # Mean for audioNoise 0.1 and conflict 0.05\n",
    "    muBminus50 = params[6]  # Mean for audioNoise 1.2 and conflict -0.05\n",
    "    muB0 = params[7]        # Mean for audioNoise 1.2 and conflict 0\n",
    "    muBplus50 = params[8]   # Mean for audioNoise 1.2 and conflict 0.05\n",
    "    \n",
    "    # Initialize negative log-likelihood\n",
    "    nll = 0\n",
    "    \n",
    "    # Loop through each data point\n",
    "    for i in range(len(delta_dur)):\n",
    "        x = delta_dur[i]\n",
    "        conflict = round(conflicts[i], 2)\n",
    "        audio_noise = round(noise_levels[i], 2)\n",
    "        total_response = total_responses[i]\n",
    "        chose_test = chose_tests[i]\n",
    "        \n",
    "        # Select appropriate parameters based on condition\n",
    "        if audio_noise == 0.1:\n",
    "            sigma = sigmaA\n",
    "            if conflict == -0.05:\n",
    "                mu = muAminus50\n",
    "            elif conflict == 0:\n",
    "                mu = muA0\n",
    "            elif conflict == 0.05:\n",
    "                mu = muAplus50\n",
    "            else:\n",
    "                raise ValueError(f\"Unknown conflict level: {conflict}\")\n",
    "        elif audio_noise == 1.2:\n",
    "            sigma = sigmaB\n",
    "            if conflict == -0.05:\n",
    "                mu = muBminus50\n",
    "            elif conflict == 0:\n",
    "                mu = muB0\n",
    "            elif conflict == 0.05:\n",
    "                mu = muBplus50\n",
    "            else:\n",
    "                raise ValueError(f\"Unknown conflict level: {conflict}\")\n",
    "        else:\n",
    "            raise ValueError(f\"Unknown audioNoise level: {audio_noise}\")\n",
    "        \n",
    "        # Calculate the probability of choosing the test stimulus at level x\n",
    "        p = psychometric_function(x, lambda_, mu, sigma)\n",
    "        \n",
    "        # Avoid numerical issues with log(0) or log(1)\n",
    "        epsilon = 1e-9\n",
    "        p = np.clip(p, epsilon, 1 - epsilon)\n",
    "        \n",
    "        # Add to the negative log-likelihood\n",
    "        nll += -1 * (chose_test * np.log(p) + (total_response - chose_test) * np.log(1 - p))\n",
    "    \n",
    "    return nll\n",
    "\n",
    "def fit_psychometric_function_M(grouped_data, intensity_variable='deltaDur', initGuesses=[0.05, 0.1, 0.1, -0.2, 0, 0.2, -0.2, 0, 0.2]):\n",
    "    \"\"\"\n",
    "    Fit psychometric function to all conditions\n",
    "    \n",
    "    Parameters:\n",
    "    -----------\n",
    "    grouped_data : pandas DataFrame\n",
    "        Grouped data with proportion of 'chose test' responses\n",
    "    intensity_variable : str\n",
    "        Column name for the intensity variable\n",
    "        \n",
    "    Returns:\n",
    "    --------\n",
    "    result : scipy.optimize.OptimizeResult\n",
    "        Optimization result\n",
    "    \"\"\"\n",
    "    intensities = grouped_data[intensity_variable]\n",
    "    chose_tests = grouped_data['num_of_chose_test']\n",
    "    total_responses = grouped_data['total_responses']\n",
    "    conflicts = grouped_data['conflictDur']\n",
    "    noise_levels = grouped_data['riseDur']\n",
    "    \n",
    "    \n",
    "    # Set bounds for parameters\n",
    "    bounds = [(0, 0.2),      # lambda\n",
    "              (0.02, 1),     # sigmaA\n",
    "              (0.02, 1)]     # sigmaB\n",
    "    bounds += [(-0.4, 0.4)] * 6  # All mu bounds\n",
    "\n",
    "    # Minimize negative log-likelihood\n",
    "    result = minimize(\n",
    "        negative_log_likelihood_unified,\n",
    "        x0=initGuesses,\n",
    "        args=(intensities, chose_tests, total_responses, conflicts, noise_levels),\n",
    "        bounds=bounds,\n",
    "        method='L-BFGS-B'  # Use L-BFGS-B for bounded optimization\n",
    "    )\n",
    "    \n",
    "    return result\n",
    "\n",
    "\n",
    "\n",
    "\n",
    "def fitMultipleStartingPoints(levels, nResp, totalResp,conflictLevels,noiseLevels, multipleInitGuesses):\n",
    "    best_fit = None\n",
    "    best_nll = float('inf')  # Initialize with infinity\n",
    "\n",
    "    for i in range(len(multipleInitGuesses)):\n",
    "        #try:\n",
    "        fit = fit_psychometric_function_M(groupedData, intensityVariable,initGuesses=multipleInitGuesses[i])\n",
    "        nll = negative_log_likelihood_unified(fit.x, levels, nResp, totalResp,conflictLevels, noiseLevels)\n",
    "\n",
    "        if nll < best_nll:\n",
    "            best_nll = nll\n",
    "            best_fit = fit\n",
    "        # except Exception as e:\n",
    "        #     print(f\"Error fitting with initial guesses {multipleInitGuesses[i]}: {e}\")\n",
    "\n",
    "    return best_fit\n",
    "\n",
    "\n",
    "# Fit the psychometric function to the grouped data\n",
    "#result = fit_psychometric_function(grouped, intensityVariable)\n",
    "\n"
   ]
  },
  {
   "cell_type": "code",
   "execution_count": 43,
   "metadata": {},
   "outputs": [
    {
     "data": {
      "text/plain": [
       "[0.03, 2.078933727666093, 6.781891312832998]"
      ]
     },
     "execution_count": 43,
     "metadata": {},
     "output_type": "execute_result"
    }
   ],
   "source": [
    "single_init_guesses"
   ]
  },
  {
   "cell_type": "code",
   "execution_count": null,
   "metadata": {},
   "outputs": [],
   "source": []
  },
  {
   "cell_type": "code",
   "execution_count": null,
   "metadata": {},
   "outputs": [],
   "source": [
    "nStarts = 5\n",
    "multipleInitGuesses = []\n",
    "# 100 random multiple starts\n",
    "\n",
    "#create combinations of the initial guesses combined in different ways\n",
    "initLambdas = np.linspace(0, 0.2, nStarts)  # Different initial guesses for lambda\n",
    "initMus = np.linspace(-0.15, 0.15, nStarts)  # Different initial guesses for mu\n",
    "initSigmas = np.linspace(0.05, 1, nStarts)  # Different initial guesses for sigma\n",
    "\n",
    "for initLambda in initLambdas:\n",
    "    for initSigma in initSigmas:\n",
    "        for initMu in initMus:\n",
    "            multipleInitGuesses.append([initLambda, initSigma, initSigma, initMu, initMu, initMu,initMu, initMu, initMu])\n"
   ]
  },
  {
   "cell_type": "code",
   "execution_count": 42,
   "metadata": {},
   "outputs": [],
   "source": [
    "# Fit the psychometric function to the grouped data\n",
    "\n",
    "levels = groupedData[intensityVariable]\n",
    "nResp = groupedData['num_of_chose_test']\n",
    "totalResp = groupedData['total_responses']\n",
    "conflictLevels = groupedData['conflictDur']\n",
    "noiseLevels = groupedData['riseDur']\n",
    "fixedLapse = None\n",
    "fixedSigma = None\n",
    "best_fit = fitMultipleStartingPoints(levels, nResp, totalResp, conflictLevels, noiseLevels,multipleInitGuesses)"
   ]
  },
  {
   "cell_type": "code",
   "execution_count": 43,
   "metadata": {},
   "outputs": [],
   "source": [
    "best_fit.x\n",
    "# Extract the fitted parameters\n",
    "lambda_fit = best_fit.x[0]\n",
    "sigmaA_fit = best_fit.x[1]\n",
    "sigmaB_fit = best_fit.x[2]\n",
    "muAminus50_fit = best_fit.x[3]\n",
    "muA0_fit = best_fit.x[4]\n",
    "muAplus50_fit = best_fit.x[5]\n",
    "muBminus50_fit = best_fit.x[6]\n",
    "muB0_fit = best_fit.x[7]\n",
    "muBplus50_fit = best_fit.x[8]\n"
   ]
  },
  {
   "cell_type": "markdown",
   "metadata": {},
   "source": [
    "# PLotting"
   ]
  },
  {
   "cell_type": "code",
   "execution_count": 44,
   "metadata": {},
   "outputs": [
    {
     "name": "stdout",
     "output_type": "stream",
     "text": [
      "Standard duration levels: [0.4997], Conflict levels: [-0.05, 0.0, 0.05], Noise levels: [0.0999, 1.1993]\n"
     ]
    }
   ],
   "source": [
    "conflictLeves=sorted(data['conflictDur'].unique())\n",
    "standardDurLevels=sorted(data['standardDur'].unique())\n",
    "noiseLevels=sorted(data['riseDur'].unique())\n",
    "print(f\"Standard duration levels: {standardDurLevels}, Conflict levels: {conflictLeves}, Noise levels: {noiseLevels}\")"
   ]
  },
  {
   "cell_type": "code",
   "execution_count": 45,
   "metadata": {},
   "outputs": [],
   "source": [
    "def bin_and_plot(data, bin_method='cut', bins=10, bin_range=None, plot=True,color=\"blue\"):\n",
    "    if bin_method == 'cut':\n",
    "        data['bin'] = pd.cut(data[intensityVariable], bins=bins, labels=False, include_lowest=True, retbins=False)\n",
    "    elif bin_method == 'manual':\n",
    "        data['bin'] = np.digitize(data[intensityVariable], bins=bin_range) - 1\n",
    "    \n",
    "    grouped = data.groupby('bin').agg(\n",
    "        x_mean=(intensityVariable, 'mean'),\n",
    "        y_mean=('p_choose_test', 'mean'),\n",
    "        total_resp=('total_responses', 'sum')\n",
    "    )\n",
    "\n",
    "    if plot:\n",
    "        plt.scatter(grouped['x_mean'], grouped['y_mean'], s=grouped['total_resp']/data['total_responses'].sum()*900, color=color)\n"
   ]
  },
  {
   "cell_type": "code",
   "execution_count": 46,
   "metadata": {},
   "outputs": [],
   "source": [
    "fig_w = 8\n",
    "fig_h = 5"
   ]
  },
  {
   "cell_type": "code",
   "execution_count": null,
   "metadata": {},
   "outputs": [
    {
     "name": "stdout",
     "output_type": "stream",
     "text": [
      "fitted lambda 0.09016317641563268 \n",
      "At noise level 0.0999 fitted sigma 0.4291166423629741 \n",
      "Noise: 0.0999, Conflict: -0.05, fit sigma: 0.4291166423629741 fit mu: 0.11818805601903294\n",
      "Noise: 0.0999, Conflict: 0.0, fit sigma: 0.4291166423629741 fit mu: 0.05913192496195024\n",
      "Noise: 0.0999, Conflict: 0.05, fit sigma: 0.4291166423629741 fit mu: 0.11380093313274042\n",
      "At noise level 1.1993 fitted sigma 0.6751321644796272 \n",
      "Noise: 1.1993, Conflict: -0.05, fit sigma: 0.6751321644796272 fit mu: 0.08053813655257568\n",
      "Noise: 1.1993, Conflict: 0.0, fit sigma: 0.6751321644796272 fit mu: 0.1176049739308442\n",
      "Noise: 1.1993, Conflict: 0.05, fit sigma: 0.6751321644796272 fit mu: 0.17877794701191166\n"
     ]
    },
    {
     "data": {
      "image/png": "[encoded data removed]",
      "text/plain": [
       "<Figure size 2400x1000 with 2 Axes>"
      ]
     },
     "metadata": {},
     "output_type": "display_data"
    }
   ],
   "source": [
    "plt.figure(figsize=(8*3,3*2))\n",
    "#plt.Subplot(3,2)\n",
    "\n",
    "m=0\n",
    "for i, standardLevel in enumerate(standardDurLevels):\n",
    "    lambda_ = lambda_fit\n",
    "    print(f\"fitted lambda {lambda_} \")\n",
    "    for j, noiseLevel in enumerate(noiseLevels):\n",
    "        sigma=best_fit.x[j+1]\n",
    "        print(f\"At noise level {noiseLevel } fitted sigma {sigma} \")\n",
    "        for k, conflictLevel in enumerate(conflictLeves):\n",
    "            m+=1        \n",
    "            \n",
    "            mu=best_fit.x[m+2]\n",
    "            #filter data\n",
    "            df=data[data['conflictDur']==conflictLevel]\n",
    "            df= df[df[\"standardDur\"]==standardLevel]\n",
    "            df=df[df[\"riseDur\"]==noiseLevel]\n",
    "            dfFiltered=groupByChooseTest(df)\n",
    "            # select levels\n",
    "            levels=dfFiltered[intensityVariable].values\n",
    "            responses=dfFiltered['num_of_chose_test'].values\n",
    "            totalResponses=dfFiltered['total_responses'].values\n",
    "            # print fitted parameters\n",
    "\n",
    "            print(f\"Noise: {noiseLevel}, Conflict: {conflictLevel}, fit sigma: {sigma} fit mu: {mu}\")\n",
    "            # plot psychometric function\n",
    "            plt.subplot(1,2,j+1)\n",
    "            maxX = max(levels) if len(levels) > 0 else 1.3  # Handle case with no levels\n",
    "            if maxX < 1.3:\n",
    "                maxX = 1.3\n",
    "            plt.xlim(-1, maxX)\n",
    "            plt.ylim(0, 1)\n",
    "            x = np.linspace(-1, maxX, 100)\n",
    "\n",
    "            y = psychometric_function(x, lambda_,mu,sigma)  # Use muA0_fit for the mean\n",
    "\n",
    "            color=sns.color_palette(\"viridis\", as_cmap=True)(k / len(conflictLeves))  # Use a colormap for different conflict levels\n",
    "            plt.plot(x, y, label=round(conflictLevel, 2), color=color, linewidth=3)  # Plot the fitted psychometric function\n",
    "            plt.axvline(x=0, color='gray', linestyle='--',)\n",
    "            plt.axhline(y=0.5, color='gray', linestyle='--')\n",
    "            plt.xlabel('Physical duration difference (Comp-Standard avaraged sec)')\n",
    "            plt.ylabel('Probability of Choosing Test')\n",
    "            plt.title(f'Standard Auditory Duration: {round(standardLevel,2)}, Noise Level: {round(noiseLevel,2)}')\n",
    "            # add fitted parameters to the plot\n",
    "            # plt.text(0.3, 0.2, f'lambda: {fitted_params[0]:.2f}\\nmu: {fitted_params[1]:.2f}\\nsigma: {fitted_params[2]:.2f}', fontsize=12, \n",
    "            #          bbox=dict(facecolor='white', alpha=0.5))\n",
    "            plt.legend(title=\"Conflict Level\", fontsize=14, title_fontsize=14)\n",
    "            bin_and_plot(dfFiltered, bin_method='cut', bins=8, plot=True,color=color)\n",
    "            \n"
   ]
  },
  {
   "cell_type": "markdown",
   "metadata": {},
   "source": []
  },
  {
   "cell_type": "markdown",
   "metadata": {},
   "source": []
  },
  {
   "cell_type": "markdown",
   "metadata": {},
   "source": []
  },
  {
   "cell_type": "markdown",
   "metadata": {},
   "source": []
  },
  {
   "cell_type": "markdown",
   "metadata": {},
   "source": []
  },
  {
   "cell_type": "markdown",
   "metadata": {},
   "source": []
  },
  {
   "cell_type": "markdown",
   "metadata": {},
   "source": []
  },
  {
   "cell_type": "markdown",
   "metadata": {},
   "source": []
  },
  {
   "cell_type": "code",
   "execution_count": null,
   "metadata": {},
   "outputs": [],
   "source": []
  },
  {
   "cell_type": "markdown",
   "metadata": {},
   "source": []
  },
  {
   "cell_type": "markdown",
   "metadata": {},
   "source": []
  },
  {
   "cell_type": "markdown",
   "metadata": {},
   "source": []
  },
  {
   "cell_type": "markdown",
   "metadata": {},
   "source": []
  },
  {
   "cell_type": "markdown",
   "metadata": {},
   "source": []
  },
  {
   "cell_type": "markdown",
   "metadata": {},
   "source": []
  },
  {
   "cell_type": "markdown",
   "metadata": {},
   "source": []
  }
 ],
 "metadata": {
  "kernelspec": {
   "display_name": "mathmod",
   "language": "python",
   "name": "python3"
  },
  "language_info": {
   "codemirror_mode": {
    "name": "ipython",
    "version": 3
   },
   "file_extension": ".py",
   "mimetype": "text/x-python",
   "name": "python",
   "nbconvert_exporter": "python",
   "pygments_lexer": "ipython3",
   "version": "3.11.8"
  }
 },
 "nbformat": 4,
 "nbformat_minor": 2
}
