{
 "cells": [
  {
   "cell_type": "code",
   "execution_count": 1,
   "metadata": {},
   "outputs": [],
   "source": [
    "# import necessary libraries\n",
    "import numpy as np\n",
    "import matplotlib.pyplot as plt\n",
    "import seaborn as sns\n",
    "import pandas as pd\n",
    "import os"
   ]
  },
  {
   "cell_type": "code",
   "execution_count": 2,
   "metadata": {},
   "outputs": [],
   "source": [
    "# Setup plot defaultrialsrialsrialss\n",
    "import matplotlib.pyplot as plt\n",
    "import seaborn as sns\n",
    "\n",
    "# Reset styling to default\n",
    "plt.rcdefaults()\n",
    "# Grid on\n",
    "plt.rcParams['axes.grid'] = True\n",
    "# Top and right axis spines off\n",
    "plt.rcParams['axes.spines.right'] = False\n",
    "plt.rcParams['axes.spines.top'] = False\n",
    "\n",
    "# Title 18 x y labels 16 ticks 14\n",
    "plt.rcParams['axes.titlesize'] = 16\n",
    "plt.rcParams['axes.labelsize'] = 14\n",
    "plt.rcParams['xtick.labelsize'] = 12\n",
    "plt.rcParams['ytick.labelsize'] = 12\n",
    "fig_w=6\n",
    "fig_h=6\n",
    "plt.rcParams['figure.figsize'] = (fig_w,fig_h )\n",
    "# Make axis equal\n",
    "#plt.rcParams['axes.axisbelow'] = True \n",
    "\n",
    "\n",
    "plt.rcParams['grid.color'] = '0.8'# Grid color\n",
    "\n",
    "# Set default color cycle\n",
    "plt.rcParams['axes.prop_cycle'] = plt.cycler(color=['#043908', '#ff7f0e', '#9467bd', '#d62728', '#364704', '#8c564b', '#e377c2', '#7f7f7f', '#bcbd22', '#17becf'])\n",
    "# Set default grid settings\n",
    "plt.rcParams['grid.linestyle'] = '--'\n",
    "plt.rcParams['grid.alpha'] = 0.7\n",
    "plt.rcParams['font.family'] = 'sans-serif'\n",
    "import matplotlib as mpl\n",
    "mpl.rcParams['figure.dpi'] = 70"
   ]
  },
  {
   "cell_type": "code",
   "execution_count": null,
   "metadata": {},
   "outputs": [
    {
     "data": {
      "application/vnd.microsoft.datawrangler.viewer.v0+json": {
       "columns": [
        {
         "name": "index",
         "rawType": "int64",
         "type": "integer"
        },
        {
         "name": "Unnamed: 0",
         "rawType": "int64",
         "type": "integer"
        },
        {
         "name": "standardDur",
         "rawType": "float64",
         "type": "float"
        },
        {
         "name": "riseDur",
         "rawType": "float64",
         "type": "float"
        },
        {
         "name": "order",
         "rawType": "int64",
         "type": "integer"
        },
        {
         "name": "preDur",
         "rawType": "float64",
         "type": "float"
        },
        {
         "name": "postDur",
         "rawType": "float64",
         "type": "float"
        },
        {
         "name": "isiDur",
         "rawType": "float64",
         "type": "float"
        },
        {
         "name": "trial_num",
         "rawType": "int64",
         "type": "integer"
        },
        {
         "name": "totalDur",
         "rawType": "float64",
         "type": "float"
        },
        {
         "name": "delta_dur_percents",
         "rawType": "float64",
         "type": "float"
        },
        {
         "name": "deltaDurS",
         "rawType": "float64",
         "type": "float"
        },
        {
         "name": "testDurS",
         "rawType": "float64",
         "type": "float"
        },
        {
         "name": "intensities",
         "rawType": "int64",
         "type": "integer"
        },
        {
         "name": "current_stair",
         "rawType": "object",
         "type": "string"
        },
        {
         "name": "responses",
         "rawType": "float64",
         "type": "float"
        },
        {
         "name": "is_correct",
         "rawType": "bool",
         "type": "boolean"
        },
        {
         "name": "response_rts",
         "rawType": "float64",
         "type": "float"
        },
        {
         "name": "stair_num_reversal",
         "rawType": "int64",
         "type": "integer"
        },
        {
         "name": "stair_is_reversal",
         "rawType": "bool",
         "type": "boolean"
        },
        {
         "name": "response_keys",
         "rawType": "object",
         "type": "string"
        },
        {
         "name": "conflictDur",
         "rawType": "float64",
         "type": "float"
        },
        {
         "name": "recordedOnsetVisualStandard",
         "rawType": "float64",
         "type": "float"
        },
        {
         "name": "recordedOffsetVisualStandard",
         "rawType": "float64",
         "type": "float"
        },
        {
         "name": "recordedDurVisualStandard",
         "rawType": "float64",
         "type": "float"
        },
        {
         "name": "recordedOnsetAudioTest",
         "rawType": "float64",
         "type": "float"
        },
        {
         "name": "recordedOffsetAudioTest",
         "rawType": "float64",
         "type": "float"
        },
        {
         "name": "recordedDurAudioTest",
         "rawType": "float64",
         "type": "float"
        },
        {
         "name": "modalityPostCueTest",
         "rawType": "float64",
         "type": "float"
        }
       ],
       "conversionMethod": "pd.DataFrame",
       "ref": "93250656-3885-4962-bd4c-ca7540494ca0",
       "rows": [
        [
         "0",
         "0",
         "0.5011",
         "0.0",
         "1",
         "0.4426",
         "0.4176",
         "0.0251",
         "0",
         "2.3384",
         "0.9",
         "0.451",
         "0.952",
         "5",
         "2D1U",
         "1.0",
         "True",
         "3.115",
         "0",
         "False",
         "left",
         "0.0",
         "0.4297730000107549",
         "1.3801441000541672",
         "0.9503711000434124",
         "1.4135370000149123",
         "1.9130562000209463",
         "0.4995192000060342",
         null
        ],
        [
         "1",
         "1",
         "0.5011",
         "0.0",
         "1",
         "0.4927",
         "0.5178",
         "0.1169",
         "1",
         "2.5805",
         "0.9",
         "0.451",
         "0.952",
         "5",
         "lapse_rate",
         "1.0",
         "True",
         "1.683",
         "0",
         "False",
         "left",
         "0.0",
         "0.4774128000135533",
         "1.427220400015358",
         "0.9498076000018044",
         "1.543996199965477",
         "2.044059199979529",
         "0.5000630000140518",
         null
        ],
        [
         "2",
         "2",
         "0.5011",
         "0.0",
         "1",
         "0.5762",
         "0.4426",
         "0.0752",
         "2",
         "2.5471",
         "0.9",
         "0.451",
         "0.952",
         "5",
         "2D1U",
         "1.0",
         "True",
         "20.717",
         "0",
         "False",
         "left",
         "0.0",
         "0.5631336999940686",
         "1.5136069000000134",
         "0.9504732000059448",
         "1.5881284000352025",
         "2.0887048000004143",
         "0.5005763999652117",
         null
        ],
        [
         "3",
         "3",
         "0.5011",
         "0.0",
         "1",
         "0.4176",
         "0.4927",
         "0.2338",
         "3",
         "2.5972",
         "0.9",
         "0.451",
         "0.952",
         "5",
         "2U1D",
         "2.0",
         "False",
         "2.325",
         "0",
         "False",
         "right",
         "0.0",
         "0.406585399992764",
         "1.3565526000456885",
         "0.9499672000529245",
         "1.5983172000269406",
         "2.098444200004451",
         "0.5001269999775104",
         null
        ]
       ],
       "shape": {
        "columns": 28,
        "rows": 4
       }
      },
      "text/html": [
       "<div>\n",
       "<style scoped>\n",
       "    .dataframe tbody tr th:only-of-type {\n",
       "        vertical-align: middle;\n",
       "    }\n",
       "\n",
       "    .dataframe tbody tr th {\n",
       "        vertical-align: top;\n",
       "    }\n",
       "\n",
       "    .dataframe thead th {\n",
       "        text-align: right;\n",
       "    }\n",
       "</style>\n",
       "<table border=\"1\" class=\"dataframe\">\n",
       "  <thead>\n",
       "    <tr style=\"text-align: right;\">\n",
       "      <th></th>\n",
       "      <th>Unnamed: 0</th>\n",
       "      <th>standardDur</th>\n",
       "      <th>riseDur</th>\n",
       "      <th>order</th>\n",
       "      <th>preDur</th>\n",
       "      <th>postDur</th>\n",
       "      <th>isiDur</th>\n",
       "      <th>trial_num</th>\n",
       "      <th>totalDur</th>\n",
       "      <th>delta_dur_percents</th>\n",
       "      <th>...</th>\n",
       "      <th>stair_is_reversal</th>\n",
       "      <th>response_keys</th>\n",
       "      <th>conflictDur</th>\n",
       "      <th>recordedOnsetVisualStandard</th>\n",
       "      <th>recordedOffsetVisualStandard</th>\n",
       "      <th>recordedDurVisualStandard</th>\n",
       "      <th>recordedOnsetAudioTest</th>\n",
       "      <th>recordedOffsetAudioTest</th>\n",
       "      <th>recordedDurAudioTest</th>\n",
       "      <th>modalityPostCueTest</th>\n",
       "    </tr>\n",
       "  </thead>\n",
       "  <tbody>\n",
       "    <tr>\n",
       "      <th>0</th>\n",
       "      <td>0</td>\n",
       "      <td>0.5011</td>\n",
       "      <td>0.0</td>\n",
       "      <td>1</td>\n",
       "      <td>0.4426</td>\n",
       "      <td>0.4176</td>\n",
       "      <td>0.0251</td>\n",
       "      <td>0</td>\n",
       "      <td>2.3384</td>\n",
       "      <td>0.9</td>\n",
       "      <td>...</td>\n",
       "      <td>False</td>\n",
       "      <td>left</td>\n",
       "      <td>0.0</td>\n",
       "      <td>0.429773</td>\n",
       "      <td>1.380144</td>\n",
       "      <td>0.950371</td>\n",
       "      <td>1.413537</td>\n",
       "      <td>1.913056</td>\n",
       "      <td>0.499519</td>\n",
       "      <td>NaN</td>\n",
       "    </tr>\n",
       "    <tr>\n",
       "      <th>1</th>\n",
       "      <td>1</td>\n",
       "      <td>0.5011</td>\n",
       "      <td>0.0</td>\n",
       "      <td>1</td>\n",
       "      <td>0.4927</td>\n",
       "      <td>0.5178</td>\n",
       "      <td>0.1169</td>\n",
       "      <td>1</td>\n",
       "      <td>2.5805</td>\n",
       "      <td>0.9</td>\n",
       "      <td>...</td>\n",
       "      <td>False</td>\n",
       "      <td>left</td>\n",
       "      <td>0.0</td>\n",
       "      <td>0.477413</td>\n",
       "      <td>1.427220</td>\n",
       "      <td>0.949808</td>\n",
       "      <td>1.543996</td>\n",
       "      <td>2.044059</td>\n",
       "      <td>0.500063</td>\n",
       "      <td>NaN</td>\n",
       "    </tr>\n",
       "    <tr>\n",
       "      <th>2</th>\n",
       "      <td>2</td>\n",
       "      <td>0.5011</td>\n",
       "      <td>0.0</td>\n",
       "      <td>1</td>\n",
       "      <td>0.5762</td>\n",
       "      <td>0.4426</td>\n",
       "      <td>0.0752</td>\n",
       "      <td>2</td>\n",
       "      <td>2.5471</td>\n",
       "      <td>0.9</td>\n",
       "      <td>...</td>\n",
       "      <td>False</td>\n",
       "      <td>left</td>\n",
       "      <td>0.0</td>\n",
       "      <td>0.563134</td>\n",
       "      <td>1.513607</td>\n",
       "      <td>0.950473</td>\n",
       "      <td>1.588128</td>\n",
       "      <td>2.088705</td>\n",
       "      <td>0.500576</td>\n",
       "      <td>NaN</td>\n",
       "    </tr>\n",
       "    <tr>\n",
       "      <th>3</th>\n",
       "      <td>3</td>\n",
       "      <td>0.5011</td>\n",
       "      <td>0.0</td>\n",
       "      <td>1</td>\n",
       "      <td>0.4176</td>\n",
       "      <td>0.4927</td>\n",
       "      <td>0.2338</td>\n",
       "      <td>3</td>\n",
       "      <td>2.5972</td>\n",
       "      <td>0.9</td>\n",
       "      <td>...</td>\n",
       "      <td>False</td>\n",
       "      <td>right</td>\n",
       "      <td>0.0</td>\n",
       "      <td>0.406585</td>\n",
       "      <td>1.356553</td>\n",
       "      <td>0.949967</td>\n",
       "      <td>1.598317</td>\n",
       "      <td>2.098444</td>\n",
       "      <td>0.500127</td>\n",
       "      <td>NaN</td>\n",
       "    </tr>\n",
       "  </tbody>\n",
       "</table>\n",
       "<p>4 rows × 28 columns</p>\n",
       "</div>"
      ],
      "text/plain": [
       "   Unnamed: 0  standardDur  riseDur  order  preDur  postDur  isiDur  \\\n",
       "0           0       0.5011      0.0      1  0.4426   0.4176  0.0251   \n",
       "1           1       0.5011      0.0      1  0.4927   0.5178  0.1169   \n",
       "2           2       0.5011      0.0      1  0.5762   0.4426  0.0752   \n",
       "3           3       0.5011      0.0      1  0.4176   0.4927  0.2338   \n",
       "\n",
       "   trial_num  totalDur  delta_dur_percents  ...  stair_is_reversal  \\\n",
       "0          0    2.3384                 0.9  ...              False   \n",
       "1          1    2.5805                 0.9  ...              False   \n",
       "2          2    2.5471                 0.9  ...              False   \n",
       "3          3    2.5972                 0.9  ...              False   \n",
       "\n",
       "   response_keys  conflictDur recordedOnsetVisualStandard  \\\n",
       "0           left          0.0                    0.429773   \n",
       "1           left          0.0                    0.477413   \n",
       "2           left          0.0                    0.563134   \n",
       "3          right          0.0                    0.406585   \n",
       "\n",
       "   recordedOffsetVisualStandard  recordedDurVisualStandard  \\\n",
       "0                      1.380144                   0.950371   \n",
       "1                      1.427220                   0.949808   \n",
       "2                      1.513607                   0.950473   \n",
       "3                      1.356553                   0.949967   \n",
       "\n",
       "   recordedOnsetAudioTest  recordedOffsetAudioTest  recordedDurAudioTest  \\\n",
       "0                1.413537                 1.913056              0.499519   \n",
       "1                1.543996                 2.044059              0.500063   \n",
       "2                1.588128                 2.088705              0.500576   \n",
       "3                1.598317                 2.098444              0.500127   \n",
       "\n",
       "  modalityPostCueTest  \n",
       "0                 NaN  \n",
       "1                 NaN  \n",
       "2                 NaN  \n",
       "3                 NaN  \n",
       "\n",
       "[4 rows x 28 columns]"
      ]
     },
     "execution_count": 5,
     "metadata": {},
     "output_type": "execute_result"
    }
   ],
   "source": [
    "#load data\n",
    "dataName=\"_bimodal_audioVisual_durEst_2025-03-25_19h15.28.386.csv\"\n",
    "\"_bimodal_audioVisual_durEst_2025-03-20_18h29.39.932.csv\"\n",
    "\n",
    "data = pd.read_csv(\"dataBimodal/\"+dataName)\n",
    "data[:4]\n",
    "data"
   ]
  },
  {
   "cell_type": "code",
   "execution_count": 6,
   "metadata": {},
   "outputs": [],
   "source": [
    "from scipy.stats import norm\n",
    "from scipy.optimize import minimize"
   ]
  },
  {
   "cell_type": "markdown",
   "metadata": {},
   "source": [
    "# Define Psychometric Function and Optimization"
   ]
  },
  {
   "cell_type": "code",
   "execution_count": 7,
   "metadata": {},
   "outputs": [],
   "source": [
    "\n",
    "def psychometric_function(intensities, lapse_rate, mu, sigma):\n",
    "    # Cumulative distribution function with mean mu and standard deviation sigma\n",
    "    cdf = norm.cdf(intensities, loc=mu, scale=sigma) \n",
    "    # take into account of lapse rate and return the probability of choosing test\n",
    "    return lapse_rate * 0.5 + (1 - lapse_rate) * cdf \n",
    "\n",
    "def derivative_psychometric_function(intensities, lapse_rate, mu, sigma):\n",
    "    #F'(x) = (1-lambda)*(1(/sqrt(2*pi)sigma)exp((x-mu)^2/sigma^2)\n",
    "\n",
    "    return (1 - lapse_rate) * (1 / (np.sqrt(2 * np.pi) * sigma)) * np.exp(-((intensities - mu) ** 2) / (2 * sigma ** 2))    \n",
    "\n",
    "# Negative log-likelihood\n",
    "def negative_log_likelihood(params, delta_dur, chose_test, totalResp):\n",
    "    lambda_, mu, sigma = params # Unpack parameters\n",
    "    p = psychometric_function(delta_dur, lambda_, mu, sigma) # Compute probability of choosing test\n",
    "    epsilon = 1e-9 # Add a small number to avoid log(0) when calculating the log-likelihood\n",
    "    p = np.clip(p, epsilon, 1 - epsilon) # Clip p to avoid log(0) and log(1)\n",
    "    # Compute the negative log-likelihood\n",
    "    log_likelihood = np.sum(chose_test * np.log(p) + (totalResp - chose_test) * np.log(1 - p))\n",
    "    return -log_likelihood\n",
    "\n",
    "# Fit psychometric function\n",
    "def fit_psychometric_function(levels,nResp, totalResp,init_guesses=[0,0,0]):\n",
    "\n",
    "    # then fits the psychometric function\n",
    "    #initial_guess = [0, -0.2, 0.05]  # Initial guess for [lambda, mu, sigma]\n",
    "    bounds = [(0, 0.2), (-0.4, +0.4), (0.05, 1)]  # Reasonable bounds\n",
    "  #  bounds=[[0,-0.8,0.05],[0.06,0.8,1]]\n",
    "    # fitting is done here\n",
    "    result = minimize(\n",
    "        negative_log_likelihood, x0=init_guesses, \n",
    "        args=(levels, nResp, totalResp),\n",
    "        bounds=bounds,\n",
    "        method='Nelder-Mead'\n",
    "    )\n",
    "    # returns the fitted parameters lambda, mu, sigma\n",
    "    return result.x\n",
    "\n",
    "# Compute sigma from slope\n",
    "def compute_sigma_from_slope(slope, lapse_rate=0.02):\n",
    "    sigma = (1 - lapse_rate) / (np.sqrt(2 * np.pi) * slope)*np.exp(-0.5)\n",
    "    return sigma\n"
   ]
  },
  {
   "cell_type": "markdown",
   "metadata": {},
   "source": [
    "#  Raw psychometric"
   ]
  },
  {
   "cell_type": "code",
   "execution_count": 8,
   "metadata": {},
   "outputs": [],
   "source": [
    "def rawNegLogLike(params, level, response):\n",
    "    # Unpack parameters\n",
    "    lapse_rate, mu, sigma = params\n",
    "    # Compute the probability of choosing test\n",
    "    p = psychometric_function(level, lapse_rate, mu, sigma)\n",
    "    # Add a small number to avoid log(0)\n",
    "    epsilon = 1e-9\n",
    "    p = np.clip(p, epsilon, 1 - epsilon)\n",
    "    # Compute the negative log-likelihood\n",
    "    log_likelihood = np.sum(response * np.log(p) + (1 - response) * np.log(1 - p))\n",
    "    return -log_likelihood\n",
    "\n",
    "# Fit psychometric function\n",
    "def fitPsychometricRaw(levels, response,init_guesses=[0,0,0]):\n",
    "    #initial_guess = [0, -0.2, 0.05]  # Initial guess for [lambda, mu, sigma]\n",
    "    bounds = [(0, 0.2), (-0.4, +0.4), (0.05, 1)]  # Reasonable bounds\n",
    "  #  bounds=[[0,-0.8,0.05],[0.06,0.8,1]]\n",
    "    # fitting is done here\n",
    "    result = minimize(\n",
    "        rawNegLogLike, x0=init_guesses, \n",
    "        args=(levels, response),\n",
    "        bounds=bounds,\n",
    "        method='Nelder-Mead'\n",
    "    )\n",
    "    # returns the fitted parameters lambda, mu, sigma\n",
    "    return result.x\n"
   ]
  },
  {
   "cell_type": "markdown",
   "metadata": {},
   "source": [
    "# Group data"
   ]
  },
  {
   "cell_type": "code",
   "execution_count": 9,
   "metadata": {},
   "outputs": [],
   "source": [
    "# Define columns for chosing test or standard\n",
    "data['chose_test'] = (data['responses'] == data['order']).astype(int)\n",
    "data['chose_standard'] = (data['responses'] != data['order']).astype(int)\n",
    "try:\n",
    "    print(data[\"rise_dur\"]>1)\n",
    "except:\n",
    "    data[\"rise_dur\"]=1\n",
    "\n",
    "data['standard_dur']=data['standardDur']\n",
    "\n",
    "def groupByChooseTest(x):\n",
    "    grouped = x.groupby(['delta_dur_percents', 'rise_dur', 'standard_dur']).agg(\n",
    "        num_of_chose_test=('chose_test', 'sum'),\n",
    "        total_responses=('responses', 'count'),\n",
    "        num_of_chose_standard=('chose_standard', 'sum')\n",
    "    ).reset_index()\n",
    "    grouped['p_choose_test'] = grouped['num_of_chose_test'] / grouped['total_responses']\n",
    "\n",
    "    return grouped\n",
    "\n",
    "def groupByStandardDur(x):\n",
    "    grouped = x.groupby(['delta_dur_percents', 'rise_dur', 'standard_dur']).agg(\n",
    "        num_of_chose_test=('chose_test', 'sum'),\n",
    "        total_responses=('responses', 'count'),\n",
    "        num_of_chose_standard=('chose_standard', 'sum')\n",
    "    ).reset_index()\n",
    "    grouped['pChooseStandard'] = grouped['num_of_chose_standard'] / grouped['total_responses']\n",
    "\n",
    "    return grouped\n",
    "\n",
    "grouped=groupByChooseTest(data)\n",
    "# p_choose_test\n",
    "#sort the group\n",
    "grouped = grouped.sort_values([ 'standard_dur'])"
   ]
  },
  {
   "cell_type": "markdown",
   "metadata": {},
   "source": [
    "# Estimate initial parameters"
   ]
  },
  {
   "cell_type": "code",
   "execution_count": 10,
   "metadata": {},
   "outputs": [],
   "source": [
    "from scipy.stats import linregress\n",
    "def estimate_initial_guesses(levels,chooseTest,totalResp, max_sigma_ratio=0.2):\n",
    "    \"\"\"\n",
    "    Estimate initial guesses for lambda, mu, and sigma with slope adjustment and sigma regularization.\n",
    "    \"\"\"\n",
    "    intensities = levels\n",
    "    chose_test = chooseTest\n",
    "    total_resp = totalResp\n",
    "    \n",
    "    # Compute proportion of \"chose test\"\n",
    "    proportions = chose_test / total_resp\n",
    "    \n",
    "    # Perform linear regression to estimate slope and intercept\n",
    "    slope, intercept, _, _, _ = linregress(intensities, proportions)\n",
    "    mu_guess = (0.5 - intercept) / slope\n",
    "\n",
    "    #print(slope, intercept)\n",
    "    lapse_rate_guess= 0.03  # 5% as a reasonable guess\n",
    "    sigma_guess= compute_sigma_from_slope(slope,lapse_rate_guess)-0.1\n",
    "\n",
    "    # Regularize sigma to avoid overestimation\n",
    "    intensity_range = np.abs(max(intensities)) - np.abs(min(intensities))\n",
    "    max_sigma = intensity_range * max_sigma_ratio\n",
    "    #sigma_guess = min(sigma_guess, max_sigma)\n",
    "    #sigma_guess=sigma_guess/3\n",
    "    \n",
    "    return [lapse_rate_guess, mu_guess, sigma_guess]\n",
    "estimate_initial_guesses(grouped['delta_dur_percents'],grouped['num_of_chose_test'],grouped['total_responses'])\n",
    "\n",
    "def estimateInitialGuessesRaw(levels,responses,maxSigmaRatio=0.2):\n",
    "    \"\"\"\n",
    "    Estimate initial guesses for lambda, mu, and sigma with slope adjustment and sigma regularization.\n",
    "    \"\"\"\n",
    "    # Compute proportion of \"chose test\"\n",
    "    proportions = responses / levels\n",
    "    \n",
    "    # Perform linear regression to estimate slope and intercept\n",
    "    slope, intercept, _, _, _ = linregress(levels, proportions)\n",
    "    mu_guess = (0.5 - intercept) / slope\n",
    "\n",
    "    #print(slope, intercept)\n",
    "    lapse_rate_guess= 0.03  # 5% as a reasonable guess\n",
    "    sigma_guess= compute_sigma_from_slope(slope,lapse_rate_guess)-0.1\n",
    "\n",
    "    # Regularize sigma to avoid overestimation\n",
    "    intensity_range = np.abs(max(levels)) - np.abs(min(levels))\n",
    "    max_sigma = intensity_range * maxSigmaRatio\n",
    "    sigma_guess = min(sigma_guess, max_sigma)\n",
    "    #sigma_guess=sigma_guess/3\n",
    "    \n",
    "    return [lapse_rate_guess, mu_guess, sigma_guess]\n"
   ]
  },
  {
   "cell_type": "markdown",
   "metadata": {},
   "source": [
    "# 1 by 1 Psychometric Function fitting"
   ]
  },
  {
   "cell_type": "code",
   "execution_count": 11,
   "metadata": {},
   "outputs": [
    {
     "name": "stdout",
     "output_type": "stream",
     "text": [
      "Standard duration levels: [0.5011], Conflict levels: [0.0], Noise levels: [1]\n"
     ]
    }
   ],
   "source": [
    "conflictLeves=sorted(data['conflictDur'].unique())\n",
    "standardDurLevels=sorted(data['standardDur'].unique())\n",
    "noiseLevels=sorted(data['rise_dur'].unique())\n",
    "print(f\"Standard duration levels: {standardDurLevels}, Conflict levels: {conflictLeves}, Noise levels: {noiseLevels}\")"
   ]
  },
  {
   "cell_type": "code",
   "execution_count": 12,
   "metadata": {},
   "outputs": [
    {
     "name": "stdout",
     "output_type": "stream",
     "text": [
      "Standard duration: 0.5011, Noise level: 1, Conflict level: 0.0, Fitted parameters: [0.2       0.3392026 1.       ]\n"
     ]
    },
    {
     "name": "stderr",
     "output_type": "stream",
     "text": [
      "/var/folders/_p/yywkspd92qs_6p63bz38bswr0000gn/T/ipykernel_20117/1888938989.py:19: OptimizeWarning: Initial guess is not within the specified bounds\n",
      "  result = minimize(\n"
     ]
    },
    {
     "data": {
      "image/png": "[encoded data removed]",
      "text/plain": [
       "<Figure size 420x420 with 1 Axes>"
      ]
     },
     "metadata": {},
     "output_type": "display_data"
    }
   ],
   "source": [
    "for i, standardLevel in enumerate(standardDurLevels):\n",
    "    for j, noiseLevel in enumerate(noiseLevels):\n",
    "        for k, conflictLevel in enumerate(conflictLeves):        \n",
    "            #filter data\n",
    "            df=data[data['conflictDur']==conflictLevel]\n",
    "            df= df[df[\"standardDur\"]==standardLevel]\n",
    "            df=df[df[\"rise_dur\"]==noiseLevel]\n",
    "\n",
    "            # select levels\n",
    "            levels=df['delta_dur_percents'].values\n",
    "            responses=df['chose_test'].values\n",
    "            # estimate initial guesses\n",
    "            initial_guesses = estimateInitialGuessesRaw(levels, responses)\n",
    "               \n",
    "            # fit psychometric function\n",
    "            fitted_params = fitPsychometricRaw(levels, responses,initial_guesses)\n",
    "            # print fitted parameters\n",
    "            print(f\"Standard duration: {standardLevel}, Noise level: {noiseLevel}, Conflict level: {conflictLevel}, Fitted parameters: {fitted_params}\")\n",
    "\n",
    "            # plot psychometric function\n",
    "            plt.figure()\n",
    "            plt.scatter(levels, responses, label='Data', color='blue')\n",
    "            x = np.linspace(-0.9, 0.9, 100)\n",
    "            y = psychometric_function(x, *fitted_params)\n",
    "            plt.plot(x, y, label='Psychometric Function', color='red')\n",
    "            plt.axvline(x=0, color='gray', linestyle='--',)\n",
    "            plt.axhline(y=0.5, color='gray', linestyle='--')\n",
    "            plt.xlabel('Delta Duration')\n",
    "            plt.ylabel('Probability of Choosing Test')\n",
    "            plt.title(f'Standard Duration: {standardLevel}, Noise Level: {noiseLevel}, Conflict Level: {conflictLevel}')\n",
    "            # add fitted parameters to the plot\n",
    "            plt.text(0.3, 0.2, f'lambda: {fitted_params[0]:.2f}\\nmu: {fitted_params[1]:.2f}\\nsigma: {fitted_params[2]:.2f}', fontsize=12, \n",
    "                     bbox=dict(facecolor='white', alpha=0.5))\n",
    "\n",
    "            # # Binned data\n",
    "            # binSize=8 # number of bins\n",
    "            # binEdges = np.linspace(-0.9, 0.9, binSize + 1)\n",
    "            # binCenters = 0.5 * (binEdges[:-1] + binEdges[1:])\n",
    "            # binnedResponses = np.zeros(binSize)\n",
    "            # binnedCounts = np.zeros(binSize)\n",
    "            # for i in range(binSize):\n",
    "            #     binMask = (levels >= binEdges[i]) & (levels < binEdges[i + 1])\n",
    "            #     binnedResponses[i] = np.sum(responses[binMask])\n",
    "            #     binnedCounts[i] = np.sum(binMask)\n",
    "            # binnedProportions = binnedResponses / binnedCounts\n",
    "            # # Plot each binCenter individually with marker size based on the number of responses\n",
    "            # for binCenter, proportion, count in zip(binCenters, binnedProportions, binnedCounts):\n",
    "            #     marker_size = (count / totalResponses + 0.5) * 100  # Adjust marker size based on count\n",
    "            #     plt.scatter(binCenter, proportion, s=marker_size, color='green', label='Binned Data' if binCenter == binCenters[0] else \"\")\n",
    "            # plt.legend()\n",
    "\n",
    "\n",
    "\n",
    "            "
   ]
  },
  {
   "cell_type": "markdown",
   "metadata": {},
   "source": [
    "# Aggregate data and fit psychometric function"
   ]
  },
  {
   "cell_type": "code",
   "execution_count": 21,
   "metadata": {},
   "outputs": [
    {
     "name": "stdout",
     "output_type": "stream",
     "text": [
      "Standard (Visual)duration: 0.5011, Noise level: 1, Conflict level: 0.0, Fitted parameters: [0.2 0.4 1. ]\n"
     ]
    },
    {
     "name": "stderr",
     "output_type": "stream",
     "text": [
      "/var/folders/_p/yywkspd92qs_6p63bz38bswr0000gn/T/ipykernel_20117/3768991739.py:30: OptimizeWarning: Initial guess is not within the specified bounds\n",
      "  result = minimize(\n"
     ]
    },
    {
     "data": {
      "image/png": "[encoded data removed]",
      "text/plain": [
       "<Figure size 420x420 with 1 Axes>"
      ]
     },
     "metadata": {},
     "output_type": "display_data"
    }
   ],
   "source": [
    "for i, standardLevel in enumerate(standardDurLevels):\n",
    "    for j, noiseLevel in enumerate(noiseLevels):\n",
    "        for k, conflictLevel in enumerate(conflictLeves):        \n",
    "            #filter data\n",
    "            df=data[data['conflictDur']==conflictLevel]\n",
    "            df= df[df[\"standardDur\"]==standardLevel]\n",
    "            df=df[df[\"rise_dur\"]==noiseLevel]\n",
    "\n",
    "            grouped=groupByChooseTest(df)\n",
    "            # p_choose_test\n",
    "            levels=grouped['delta_dur_percents'].values\n",
    "            responses=grouped['num_of_chose_test'].values\n",
    "            totalResponses=grouped['total_responses'].values\n",
    "            # estimate initial guesses\n",
    "            initial_guesses = estimate_initial_guesses(levels, responses, totalResponses)\n",
    "            # fit psychometric function\n",
    "            fitted_params = fit_psychometric_function(levels, responses, totalResponses,initial_guesses)\n",
    "            # print fitted parameters\n",
    "            print(f\"Standard (Visual)duration: {standardLevel}, Noise level: {noiseLevel}, Conflict level: {conflictLevel}, Fitted parameters: {fitted_params}\")\n",
    "\n",
    "            # plot psychometric function\n",
    "            plt.figure()\n",
    "            #plt.scatter(levels, responses/totalResponses, label='Data', color='blue')\n",
    "            x = np.linspace(-0.9, 0.9, 100)\n",
    "            y = psychometric_function(x, *fitted_params)\n",
    "            plt.plot(x, y, label='Psychometric Function', color='red')\n",
    "            plt.axvline(x=0, color='gray', linestyle='--',)\n",
    "            plt.axhline(y=0.5, color='gray', linestyle='--')\n",
    "            plt.xlabel('Delta Duration')\n",
    "            plt.ylabel('Probability of Choosing Test')\n",
    "            plt.title(f'Standard(Visual)Duration: {round(standardLevel,3)}')\n",
    "            # add fitted parameters to the plot\n",
    "            plt.text(0.3, 0.2, f'lambda: {fitted_params[0]:.2f}\\nmu: {fitted_params[1]:.2f}\\nsigma: {fitted_params[2]:.2f}', fontsize=12, \n",
    "                     bbox=dict(facecolor='white', alpha=0.5))\n",
    "            \n",
    "            # Bin using pd.cut\n",
    "            binSize=8 # number of bins\n",
    "            grouped['bin'] = pd.cut(grouped['delta_dur_percents'], bins=binSize,\n",
    "                                    labels=False, include_lowest=True,retbins=False)\n",
    "            #calculate means and sums for each bin\n",
    "            binGroup=grouped.groupby('bin').agg(\n",
    "                mean_delta_dur=('delta_dur_percents', 'mean'),\n",
    "                sum_num_of_chose_test=('num_of_chose_test', 'sum'),\n",
    "                sum_total_responses=('total_responses', 'sum')\n",
    "            ).reset_index()\n",
    "            #total responses for normalization of marker size\n",
    "            totalResponses=grouped['total_responses'].sum()\n",
    "            #calculate proportions\n",
    "            binGroup['pChooseTest'] = binGroup['sum_num_of_chose_test'] / binGroup['sum_total_responses']\n",
    "            #plot binned data\n",
    "            plt.scatter(binGroup['mean_delta_dur'], binGroup['pChooseTest'], label='Binned Data', color='green'\n",
    "                        ,s=binGroup['sum_total_responses']/totalResponses*900)\n",
    "            \n"
   ]
  },
  {
   "cell_type": "code",
   "execution_count": null,
   "metadata": {},
   "outputs": [],
   "source": []
  },
  {
   "cell_type": "code",
   "execution_count": null,
   "metadata": {},
   "outputs": [],
   "source": []
  },
  {
   "cell_type": "code",
   "execution_count": null,
   "metadata": {},
   "outputs": [],
   "source": []
  }
 ],
 "metadata": {
  "kernelspec": {
   "display_name": "mathmod",
   "language": "python",
   "name": "python3"
  },
  "language_info": {
   "codemirror_mode": {
    "name": "ipython",
    "version": 3
   },
   "file_extension": ".py",
   "mimetype": "text/x-python",
   "name": "python",
   "nbconvert_exporter": "python",
   "pygments_lexer": "ipython3",
   "version": "3.11.8"
  }
 },
 "nbformat": 4,
 "nbformat_minor": 2
}
