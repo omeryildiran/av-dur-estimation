{
 "cells": [
  {
   "cell_type": "code",
   "execution_count": 1,
   "metadata": {},
   "outputs": [],
   "source": [
    "# import necessary libraries\n",
    "import numpy as np\n",
    "import matplotlib.pyplot as plt\n",
    "import seaborn as sns\n",
    "import pandas as pd\n",
    "import os"
   ]
  },
  {
   "cell_type": "code",
   "execution_count": 2,
   "metadata": {},
   "outputs": [],
   "source": [
    "# Setup plot defaultrialsrialsrialss\n",
    "import matplotlib.pyplot as plt\n",
    "import seaborn as sns\n",
    "\n",
    "# Reset styling to default\n",
    "plt.rcdefaults()\n",
    "# Grid on\n",
    "plt.rcParams['axes.grid'] = True\n",
    "# Top and right axis spines off\n",
    "plt.rcParams['axes.spines.right'] = False\n",
    "plt.rcParams['axes.spines.top'] = False\n",
    "\n",
    "# Title 18 x y labels 16 ticks 14\n",
    "plt.rcParams['axes.titlesize'] = 16\n",
    "plt.rcParams['axes.labelsize'] = 14\n",
    "plt.rcParams['xtick.labelsize'] = 12\n",
    "plt.rcParams['ytick.labelsize'] = 12\n",
    "fig_w=6\n",
    "fig_h=6\n",
    "plt.rcParams['figure.figsize'] = (fig_w,fig_h )\n",
    "# Make axis equal\n",
    "#plt.rcParams['axes.axisbelow'] = True \n",
    "\n",
    "\n",
    "plt.rcParams['grid.color'] = '0.8'# Grid color\n",
    "\n",
    "# Set default color cycle\n",
    "plt.rcParams['axes.prop_cycle'] = plt.cycler(color=['#043908', '#ff7f0e', '#9467bd', '#d62728', '#364704', '#8c564b', '#e377c2', '#7f7f7f', '#bcbd22', '#17becf'])\n",
    "# Set default grid settings\n",
    "plt.rcParams['grid.linestyle'] = '--'\n",
    "plt.rcParams['grid.alpha'] = 0.7\n",
    "plt.rcParams['font.family'] = 'sans-serif'\n",
    "import matplotlib as mpl\n",
    "mpl.rcParams['figure.dpi'] = 70"
   ]
  },
  {
   "cell_type": "code",
   "execution_count": 3,
   "metadata": {},
   "outputs": [
    {
     "data": {
      "application/vnd.microsoft.datawrangler.viewer.v0+json": {
       "columns": [
        {
         "name": "index",
         "rawType": "int64",
         "type": "integer"
        },
        {
         "name": "Unnamed: 0",
         "rawType": "int64",
         "type": "integer"
        },
        {
         "name": "standardDur",
         "rawType": "float64",
         "type": "float"
        },
        {
         "name": "riseDur",
         "rawType": "float64",
         "type": "float"
        },
        {
         "name": "order",
         "rawType": "int64",
         "type": "integer"
        },
        {
         "name": "preDur",
         "rawType": "float64",
         "type": "float"
        },
        {
         "name": "postDur",
         "rawType": "float64",
         "type": "float"
        },
        {
         "name": "isiDur",
         "rawType": "float64",
         "type": "float"
        },
        {
         "name": "trial_num",
         "rawType": "int64",
         "type": "integer"
        },
        {
         "name": "totalDur",
         "rawType": "float64",
         "type": "float"
        },
        {
         "name": "delta_dur_percents",
         "rawType": "float64",
         "type": "float"
        },
        {
         "name": "deltaDurS",
         "rawType": "float64",
         "type": "float"
        },
        {
         "name": "testDurS",
         "rawType": "float64",
         "type": "float"
        },
        {
         "name": "intensities",
         "rawType": "int64",
         "type": "integer"
        },
        {
         "name": "current_stair",
         "rawType": "object",
         "type": "string"
        },
        {
         "name": "responses",
         "rawType": "float64",
         "type": "float"
        },
        {
         "name": "is_correct",
         "rawType": "bool",
         "type": "boolean"
        },
        {
         "name": "response_rts",
         "rawType": "float64",
         "type": "float"
        },
        {
         "name": "stair_num_reversal",
         "rawType": "int64",
         "type": "integer"
        },
        {
         "name": "stair_is_reversal",
         "rawType": "bool",
         "type": "boolean"
        },
        {
         "name": "response_keys",
         "rawType": "object",
         "type": "string"
        },
        {
         "name": "conflictDur",
         "rawType": "float64",
         "type": "float"
        },
        {
         "name": "recordedOnsetVisualTest",
         "rawType": "float64",
         "type": "float"
        },
        {
         "name": "recordedOffsetVisualTest",
         "rawType": "float64",
         "type": "float"
        },
        {
         "name": "recordedDurVisualTest",
         "rawType": "float64",
         "type": "float"
        },
        {
         "name": "recordedOnsetAudio",
         "rawType": "float64",
         "type": "float"
        },
        {
         "name": "recordedOffsetAudio",
         "rawType": "float64",
         "type": "float"
        },
        {
         "name": "recordedDurAudio",
         "rawType": "float64",
         "type": "float"
        },
        {
         "name": "modalityPostCue",
         "rawType": "float64",
         "type": "float"
        }
       ],
       "conversionMethod": "pd.DataFrame",
       "ref": "f99c40d0-9299-4798-8ae4-d85862f42856",
       "rows": [
        [
         "0",
         "0",
         "0.5002",
         "0.0",
         "1",
         "0.6003",
         "0.5586",
         "0.0834",
         "0",
         "2.5679",
         "0.65",
         "0.3252",
         "0.8254",
         "5",
         "1D1U",
         "1.0",
         "True",
         "0.264",
         "0",
         "False",
         "left",
         "0.0",
         "0.586422599999878",
         "1.4113750999999866",
         "0.8249525000001086",
         "1.48662319999994",
         "1.9864340999999968",
         "0.4998109000000568",
         null
        ],
        [
         "1",
         "1",
         "0.5002",
         "0.0",
         "2",
         "0.5419",
         "0.5336",
         "0.1501",
         "1",
         "2.6763",
         "0.9",
         "0.4502",
         "0.9505",
         "5",
         "lapse_rate",
         "2.0",
         "True",
         "0.533",
         "0",
         "False",
         "right",
         "0.0",
         "1.1812660000000506",
         "2.1400590000000648",
         "0.9587930000000142",
         "0.5315656000000217",
         "1.0311526000000413",
         "0.4995870000000195",
         null
        ],
        [
         "2",
         "2",
         "0.5002",
         "0.0",
         "2",
         "0.4919",
         "0.617",
         "0.3835",
         "2",
         "2.1677",
         "-0.65",
         "-0.3252",
         "0.1751",
         "5",
         "2U1D",
         "1.0",
         "True",
         "0.758",
         "0",
         "False",
         "left",
         "0.0",
         "1.3665942999998606",
         "1.5497556999998778",
         "0.1831614000000172",
         "0.4830035999998472",
         "0.9830400999999256",
         "0.5000365000000784",
         null
        ],
        [
         "3",
         "3",
         "0.5002",
         "0.0",
         "1",
         "0.4419",
         "0.4586",
         "0.8337",
         "3",
         "2.9597",
         "0.45",
         "0.2251",
         "0.7253",
         "5",
         "1D1U",
         "1.0",
         "True",
         "0.416",
         "0",
         "False",
         "left",
         "0.0",
         "0.4310187000000951",
         "1.1640380999999709",
         "0.7330193999998755",
         "1.9809437999999773",
         "2.480777900000021",
         "0.4998341000000437",
         null
        ]
       ],
       "shape": {
        "columns": 28,
        "rows": 4
       }
      },
      "text/html": [
       "<div>\n",
       "<style scoped>\n",
       "    .dataframe tbody tr th:only-of-type {\n",
       "        vertical-align: middle;\n",
       "    }\n",
       "\n",
       "    .dataframe tbody tr th {\n",
       "        vertical-align: top;\n",
       "    }\n",
       "\n",
       "    .dataframe thead th {\n",
       "        text-align: right;\n",
       "    }\n",
       "</style>\n",
       "<table border=\"1\" class=\"dataframe\">\n",
       "  <thead>\n",
       "    <tr style=\"text-align: right;\">\n",
       "      <th></th>\n",
       "      <th>Unnamed: 0</th>\n",
       "      <th>standardDur</th>\n",
       "      <th>riseDur</th>\n",
       "      <th>order</th>\n",
       "      <th>preDur</th>\n",
       "      <th>postDur</th>\n",
       "      <th>isiDur</th>\n",
       "      <th>trial_num</th>\n",
       "      <th>totalDur</th>\n",
       "      <th>delta_dur_percents</th>\n",
       "      <th>...</th>\n",
       "      <th>stair_is_reversal</th>\n",
       "      <th>response_keys</th>\n",
       "      <th>conflictDur</th>\n",
       "      <th>recordedOnsetVisualTest</th>\n",
       "      <th>recordedOffsetVisualTest</th>\n",
       "      <th>recordedDurVisualTest</th>\n",
       "      <th>recordedOnsetAudio</th>\n",
       "      <th>recordedOffsetAudio</th>\n",
       "      <th>recordedDurAudio</th>\n",
       "      <th>modalityPostCue</th>\n",
       "    </tr>\n",
       "  </thead>\n",
       "  <tbody>\n",
       "    <tr>\n",
       "      <th>0</th>\n",
       "      <td>0</td>\n",
       "      <td>0.5002</td>\n",
       "      <td>0.0</td>\n",
       "      <td>1</td>\n",
       "      <td>0.6003</td>\n",
       "      <td>0.5586</td>\n",
       "      <td>0.0834</td>\n",
       "      <td>0</td>\n",
       "      <td>2.5679</td>\n",
       "      <td>0.65</td>\n",
       "      <td>...</td>\n",
       "      <td>False</td>\n",
       "      <td>left</td>\n",
       "      <td>0.0</td>\n",
       "      <td>0.586423</td>\n",
       "      <td>1.411375</td>\n",
       "      <td>0.824953</td>\n",
       "      <td>1.486623</td>\n",
       "      <td>1.986434</td>\n",
       "      <td>0.499811</td>\n",
       "      <td>NaN</td>\n",
       "    </tr>\n",
       "    <tr>\n",
       "      <th>1</th>\n",
       "      <td>1</td>\n",
       "      <td>0.5002</td>\n",
       "      <td>0.0</td>\n",
       "      <td>2</td>\n",
       "      <td>0.5419</td>\n",
       "      <td>0.5336</td>\n",
       "      <td>0.1501</td>\n",
       "      <td>1</td>\n",
       "      <td>2.6763</td>\n",
       "      <td>0.90</td>\n",
       "      <td>...</td>\n",
       "      <td>False</td>\n",
       "      <td>right</td>\n",
       "      <td>0.0</td>\n",
       "      <td>1.181266</td>\n",
       "      <td>2.140059</td>\n",
       "      <td>0.958793</td>\n",
       "      <td>0.531566</td>\n",
       "      <td>1.031153</td>\n",
       "      <td>0.499587</td>\n",
       "      <td>NaN</td>\n",
       "    </tr>\n",
       "    <tr>\n",
       "      <th>2</th>\n",
       "      <td>2</td>\n",
       "      <td>0.5002</td>\n",
       "      <td>0.0</td>\n",
       "      <td>2</td>\n",
       "      <td>0.4919</td>\n",
       "      <td>0.6170</td>\n",
       "      <td>0.3835</td>\n",
       "      <td>2</td>\n",
       "      <td>2.1677</td>\n",
       "      <td>-0.65</td>\n",
       "      <td>...</td>\n",
       "      <td>False</td>\n",
       "      <td>left</td>\n",
       "      <td>0.0</td>\n",
       "      <td>1.366594</td>\n",
       "      <td>1.549756</td>\n",
       "      <td>0.183161</td>\n",
       "      <td>0.483004</td>\n",
       "      <td>0.983040</td>\n",
       "      <td>0.500037</td>\n",
       "      <td>NaN</td>\n",
       "    </tr>\n",
       "    <tr>\n",
       "      <th>3</th>\n",
       "      <td>3</td>\n",
       "      <td>0.5002</td>\n",
       "      <td>0.0</td>\n",
       "      <td>1</td>\n",
       "      <td>0.4419</td>\n",
       "      <td>0.4586</td>\n",
       "      <td>0.8337</td>\n",
       "      <td>3</td>\n",
       "      <td>2.9597</td>\n",
       "      <td>0.45</td>\n",
       "      <td>...</td>\n",
       "      <td>False</td>\n",
       "      <td>left</td>\n",
       "      <td>0.0</td>\n",
       "      <td>0.431019</td>\n",
       "      <td>1.164038</td>\n",
       "      <td>0.733019</td>\n",
       "      <td>1.980944</td>\n",
       "      <td>2.480778</td>\n",
       "      <td>0.499834</td>\n",
       "      <td>NaN</td>\n",
       "    </tr>\n",
       "  </tbody>\n",
       "</table>\n",
       "<p>4 rows × 28 columns</p>\n",
       "</div>"
      ],
      "text/plain": [
       "   Unnamed: 0  standardDur  riseDur  order  preDur  postDur  isiDur  \\\n",
       "0           0       0.5002      0.0      1  0.6003   0.5586  0.0834   \n",
       "1           1       0.5002      0.0      2  0.5419   0.5336  0.1501   \n",
       "2           2       0.5002      0.0      2  0.4919   0.6170  0.3835   \n",
       "3           3       0.5002      0.0      1  0.4419   0.4586  0.8337   \n",
       "\n",
       "   trial_num  totalDur  delta_dur_percents  ...  stair_is_reversal  \\\n",
       "0          0    2.5679                0.65  ...              False   \n",
       "1          1    2.6763                0.90  ...              False   \n",
       "2          2    2.1677               -0.65  ...              False   \n",
       "3          3    2.9597                0.45  ...              False   \n",
       "\n",
       "   response_keys  conflictDur recordedOnsetVisualTest  \\\n",
       "0           left          0.0                0.586423   \n",
       "1          right          0.0                1.181266   \n",
       "2           left          0.0                1.366594   \n",
       "3           left          0.0                0.431019   \n",
       "\n",
       "   recordedOffsetVisualTest  recordedDurVisualTest  recordedOnsetAudio  \\\n",
       "0                  1.411375               0.824953            1.486623   \n",
       "1                  2.140059               0.958793            0.531566   \n",
       "2                  1.549756               0.183161            0.483004   \n",
       "3                  1.164038               0.733019            1.980944   \n",
       "\n",
       "   recordedOffsetAudio  recordedDurAudio modalityPostCue  \n",
       "0             1.986434          0.499811             NaN  \n",
       "1             1.031153          0.499587             NaN  \n",
       "2             0.983040          0.500037             NaN  \n",
       "3             2.480778          0.499834             NaN  \n",
       "\n",
       "[4 rows x 28 columns]"
      ]
     },
     "execution_count": 3,
     "metadata": {},
     "output_type": "execute_result"
    }
   ],
   "source": [
    "#load data\n",
    "dataName=\"_bimodal_audioVisual_durEst_2025-03-20_18h29.39.932.csv\"\n",
    "\n",
    "data = pd.read_csv(\"data/\"+dataName)\n",
    "data[:4]"
   ]
  },
  {
   "cell_type": "code",
   "execution_count": 4,
   "metadata": {},
   "outputs": [],
   "source": [
    "from scipy.stats import norm\n",
    "from scipy.optimize import minimize"
   ]
  },
  {
   "cell_type": "markdown",
   "metadata": {},
   "source": [
    "# Define Psychometric Function and Optimization"
   ]
  },
  {
   "cell_type": "code",
   "execution_count": 5,
   "metadata": {},
   "outputs": [],
   "source": [
    "\n",
    "def psychometric_function(intensities, lapse_rate, mu, sigma):\n",
    "    # Cumulative distribution function with mean mu and standard deviation sigma\n",
    "    cdf = norm.cdf(intensities, loc=mu, scale=sigma) \n",
    "    # take into account of lapse rate and return the probability of choosing test\n",
    "    return lapse_rate * 0.5 + (1 - lapse_rate) * cdf \n",
    "\n",
    "def derivative_psychometric_function(intensities, lapse_rate, mu, sigma):\n",
    "    #F'(x) = (1-lambda)*(1(/sqrt(2*pi)sigma)exp((x-mu)^2/sigma^2)\n",
    "\n",
    "    return (1 - lapse_rate) * (1 / (np.sqrt(2 * np.pi) * sigma)) * np.exp(-((intensities - mu) ** 2) / (2 * sigma ** 2))    \n",
    "\n",
    "# Negative log-likelihood\n",
    "def negative_log_likelihood(params, delta_dur, chose_test, totalResp):\n",
    "    lambda_, mu, sigma = params # Unpack parameters\n",
    "    p = psychometric_function(delta_dur, lambda_, mu, sigma) # Compute probability of choosing test\n",
    "    epsilon = 1e-9 # Add a small number to avoid log(0) when calculating the log-likelihood\n",
    "    p = np.clip(p, epsilon, 1 - epsilon) # Clip p to avoid log(0) and log(1)\n",
    "    # Compute the negative log-likelihood\n",
    "    log_likelihood = np.sum(chose_test * np.log(p) + (totalResp - chose_test) * np.log(1 - p))\n",
    "    return -log_likelihood\n",
    "\n",
    "# Fit psychometric function\n",
    "def fit_psychometric_function(levels,nResp, totalResp,init_guesses=[0,0,0]):\n",
    "\n",
    "    # then fits the psychometric function\n",
    "    #initial_guess = [0, -0.2, 0.05]  # Initial guess for [lambda, mu, sigma]\n",
    "    bounds = [(0, 0.2), (-0.4, +0.4), (0.05, 1)]  # Reasonable bounds\n",
    "  #  bounds=[[0,-0.8,0.05],[0.06,0.8,1]]\n",
    "    # fitting is done here\n",
    "    result = minimize(\n",
    "        negative_log_likelihood, x0=init_guesses, \n",
    "        args=(levels, nResp, totalResp),\n",
    "        bounds=bounds,\n",
    "        method='Nelder-Mead'\n",
    "    )\n",
    "    # returns the fitted parameters lambda, mu, sigma\n",
    "    return result.x\n",
    "\n",
    "# Compute sigma from slope\n",
    "def compute_sigma_from_slope(slope, lapse_rate=0.02):\n",
    "    sigma = (1 - lapse_rate) / (np.sqrt(2 * np.pi) * slope)*np.exp(-0.5)\n",
    "    return sigma\n"
   ]
  },
  {
   "cell_type": "markdown",
   "metadata": {},
   "source": [
    "#  Raw psychometric"
   ]
  },
  {
   "cell_type": "code",
   "execution_count": 6,
   "metadata": {},
   "outputs": [],
   "source": [
    "def rawNegLogLike(params, level, response):\n",
    "    # Unpack parameters\n",
    "    lapse_rate, mu, sigma = params\n",
    "    # Compute the probability of choosing test\n",
    "    p = psychometric_function(level, lapse_rate, mu, sigma)\n",
    "    # Add a small number to avoid log(0)\n",
    "    epsilon = 1e-9\n",
    "    p = np.clip(p, epsilon, 1 - epsilon)\n",
    "    # Compute the negative log-likelihood\n",
    "    log_likelihood = np.sum(response * np.log(p) + (1 - response) * np.log(1 - p))\n",
    "    return -log_likelihood\n",
    "\n",
    "# Fit psychometric function\n",
    "def fitPsychometricRaw(levels, response,init_guesses=[0,0,0]):\n",
    "    #initial_guess = [0, -0.2, 0.05]  # Initial guess for [lambda, mu, sigma]\n",
    "    bounds = [(0, 0.2), (-0.4, +0.4), (0.05, 1)]  # Reasonable bounds\n",
    "  #  bounds=[[0,-0.8,0.05],[0.06,0.8,1]]\n",
    "    # fitting is done here\n",
    "    result = minimize(\n",
    "        rawNegLogLike, x0=init_guesses, \n",
    "        args=(levels, response),\n",
    "        bounds=bounds,\n",
    "        method='Nelder-Mead'\n",
    "    )\n",
    "    # returns the fitted parameters lambda, mu, sigma\n",
    "    return result.x\n"
   ]
  },
  {
   "cell_type": "markdown",
   "metadata": {},
   "source": [
    "# Group data"
   ]
  },
  {
   "cell_type": "code",
   "execution_count": 7,
   "metadata": {},
   "outputs": [],
   "source": [
    "# Define columns for chosing test or standard\n",
    "data['chose_test'] = (data['responses'] == data['order']).astype(int)\n",
    "data['chose_standard'] = (data['responses'] != data['order']).astype(int)\n",
    "try:\n",
    "    print(data[\"rise_dur\"]>1)\n",
    "except:\n",
    "    data[\"rise_dur\"]=1\n",
    "\n",
    "data['standard_dur']=data['standardDur']\n",
    "\n",
    "def groupByChooseTest(x):\n",
    "    grouped = x.groupby(['delta_dur_percents', 'rise_dur', 'standard_dur']).agg(\n",
    "        num_of_chose_test=('chose_test', 'sum'),\n",
    "        total_responses=('responses', 'count'),\n",
    "        num_of_chose_standard=('chose_standard', 'sum')\n",
    "    ).reset_index()\n",
    "    grouped['p_choose_test'] = grouped['num_of_chose_test'] / grouped['total_responses']\n",
    "\n",
    "    return grouped\n",
    "\n",
    "def groupByStandardDur(x):\n",
    "    grouped = x.groupby(['delta_dur_percents', 'rise_dur', 'standard_dur']).agg(\n",
    "        num_of_chose_test=('chose_test', 'sum'),\n",
    "        total_responses=('responses', 'count'),\n",
    "        num_of_chose_standard=('chose_standard', 'sum')\n",
    "    ).reset_index()\n",
    "    grouped['pChooseStandard'] = grouped['num_of_chose_standard'] / grouped['total_responses']\n",
    "\n",
    "    return grouped\n",
    "\n",
    "grouped=groupByChooseTest(data)\n",
    "# p_choose_test\n",
    "#sort the group\n",
    "grouped = grouped.sort_values([ 'standard_dur'])"
   ]
  },
  {
   "cell_type": "markdown",
   "metadata": {},
   "source": [
    "# Estimate initial parameters"
   ]
  },
  {
   "cell_type": "code",
   "execution_count": 8,
   "metadata": {},
   "outputs": [],
   "source": [
    "from scipy.stats import linregress\n",
    "def estimate_initial_guesses(levels,chooseTest,totalResp, max_sigma_ratio=0.2):\n",
    "    \"\"\"\n",
    "    Estimate initial guesses for lambda, mu, and sigma with slope adjustment and sigma regularization.\n",
    "    \"\"\"\n",
    "    intensities = levels\n",
    "    chose_test = chooseTest\n",
    "    total_resp = totalResp\n",
    "    \n",
    "    # Compute proportion of \"chose test\"\n",
    "    proportions = chose_test / total_resp\n",
    "    \n",
    "    # Perform linear regression to estimate slope and intercept\n",
    "    slope, intercept, _, _, _ = linregress(intensities, proportions)\n",
    "    mu_guess = (0.5 - intercept) / slope\n",
    "\n",
    "    #print(slope, intercept)\n",
    "    lapse_rate_guess= 0.03  # 5% as a reasonable guess\n",
    "    sigma_guess= compute_sigma_from_slope(slope,lapse_rate_guess)-0.1\n",
    "\n",
    "    # Regularize sigma to avoid overestimation\n",
    "    intensity_range = np.abs(max(intensities)) - np.abs(min(intensities))\n",
    "    max_sigma = intensity_range * max_sigma_ratio\n",
    "    #sigma_guess = min(sigma_guess, max_sigma)\n",
    "    #sigma_guess=sigma_guess/3\n",
    "    \n",
    "    return [lapse_rate_guess, mu_guess, sigma_guess]\n",
    "estimate_initial_guesses(grouped['delta_dur_percents'],grouped['num_of_chose_test'],grouped['total_responses'])\n",
    "\n",
    "def estimateInitialGuessesRaw(levels,responses,maxSigmaRatio=0.2):\n",
    "    \"\"\"\n",
    "    Estimate initial guesses for lambda, mu, and sigma with slope adjustment and sigma regularization.\n",
    "    \"\"\"\n",
    "    # Compute proportion of \"chose test\"\n",
    "    proportions = responses / levels\n",
    "    \n",
    "    # Perform linear regression to estimate slope and intercept\n",
    "    slope, intercept, _, _, _ = linregress(levels, proportions)\n",
    "    mu_guess = (0.5 - intercept) / slope\n",
    "\n",
    "    #print(slope, intercept)\n",
    "    lapse_rate_guess= 0.03  # 5% as a reasonable guess\n",
    "    sigma_guess= compute_sigma_from_slope(slope,lapse_rate_guess)-0.1\n",
    "\n",
    "    # Regularize sigma to avoid overestimation\n",
    "    intensity_range = np.abs(max(levels)) - np.abs(min(levels))\n",
    "    max_sigma = intensity_range * maxSigmaRatio\n",
    "    sigma_guess = min(sigma_guess, max_sigma)\n",
    "    #sigma_guess=sigma_guess/3\n",
    "    \n",
    "    return [lapse_rate_guess, mu_guess, sigma_guess]\n"
   ]
  },
  {
   "cell_type": "markdown",
   "metadata": {},
   "source": [
    "# 1 by 1 Psychometric Function fitting"
   ]
  },
  {
   "cell_type": "code",
   "execution_count": 9,
   "metadata": {},
   "outputs": [
    {
     "name": "stdout",
     "output_type": "stream",
     "text": [
      "Standard duration levels: [0.5002], Conflict levels: [0.0], Noise levels: [1]\n"
     ]
    }
   ],
   "source": [
    "conflictLeves=sorted(data['conflictDur'].unique())\n",
    "standardDurLevels=sorted(data['standardDur'].unique())\n",
    "noiseLevels=sorted(data['rise_dur'].unique())\n",
    "print(f\"Standard duration levels: {standardDurLevels}, Conflict levels: {conflictLeves}, Noise levels: {noiseLevels}\")"
   ]
  },
  {
   "cell_type": "code",
   "execution_count": 15,
   "metadata": {},
   "outputs": [
    {
     "name": "stdout",
     "output_type": "stream",
     "text": [
      "Standard duration: 0.5002, Noise level: 1, Conflict level: 0.0, Fitted parameters: [ 0.2        -0.06468903  0.37082633]\n"
     ]
    },
    {
     "name": "stderr",
     "output_type": "stream",
     "text": [
      "/var/folders/_p/yywkspd92qs_6p63bz38bswr0000gn/T/ipykernel_25129/1888938989.py:19: OptimizeWarning: Initial guess is not within the specified bounds\n",
      "  result = minimize(\n"
     ]
    },
    {
     "data": {
      "image/png": "[encoded data removed]",
      "text/plain": [
       "<Figure size 420x420 with 1 Axes>"
      ]
     },
     "metadata": {},
     "output_type": "display_data"
    }
   ],
   "source": [
    "for i, standardLevel in enumerate(standardDurLevels):\n",
    "    for j, noiseLevel in enumerate(noiseLevels):\n",
    "        for k, conflictLevel in enumerate(conflictLeves):        \n",
    "            #filter data\n",
    "            df=data[data['conflictDur']==conflictLevel]\n",
    "            df= df[df[\"standardDur\"]==standardLevel]\n",
    "            df=df[df[\"rise_dur\"]==noiseLevel]\n",
    "\n",
    "            # select levels\n",
    "            levels=df['delta_dur_percents'].values\n",
    "            responses=df['chose_test'].values\n",
    "            # estimate initial guesses\n",
    "            initial_guesses = estimateInitialGuessesRaw(levels, responses)\n",
    "               \n",
    "            # fit psychometric function\n",
    "            fitted_params = fitPsychometricRaw(levels, responses,initial_guesses)\n",
    "            # print fitted parameters\n",
    "            print(f\"Standard duration: {standardLevel}, Noise level: {noiseLevel}, Conflict level: {conflictLevel}, Fitted parameters: {fitted_params}\")\n",
    "\n",
    "            # plot psychometric function\n",
    "            plt.figure()\n",
    "            plt.scatter(levels, responses, label='Data', color='blue')\n",
    "            x = np.linspace(-0.9, 0.9, 100)\n",
    "            y = psychometric_function(x, *fitted_params)\n",
    "            plt.plot(x, y, label='Psychometric Function', color='red')\n",
    "            plt.axvline(x=0, color='gray', linestyle='--',)\n",
    "            plt.axhline(y=0.5, color='gray', linestyle='--')\n",
    "            plt.xlabel('Delta Duration')\n",
    "            plt.ylabel('Probability of Choosing Test')\n",
    "            plt.title(f'Standard Duration: {standardLevel}, Noise Level: {noiseLevel}, Conflict Level: {conflictLevel}')\n",
    "            # add fitted parameters to the plot\n",
    "            plt.text(0.3, 0.2, f'lambda: {fitted_params[0]:.2f}\\nmu: {fitted_params[1]:.2f}\\nsigma: {fitted_params[2]:.2f}', fontsize=12, \n",
    "                     bbox=dict(facecolor='white', alpha=0.5))\n",
    "\n",
    "            # # Binned data\n",
    "            # binSize=8 # number of bins\n",
    "            # binEdges = np.linspace(-0.9, 0.9, binSize + 1)\n",
    "            # binCenters = 0.5 * (binEdges[:-1] + binEdges[1:])\n",
    "            # binnedResponses = np.zeros(binSize)\n",
    "            # binnedCounts = np.zeros(binSize)\n",
    "            # for i in range(binSize):\n",
    "            #     binMask = (levels >= binEdges[i]) & (levels < binEdges[i + 1])\n",
    "            #     binnedResponses[i] = np.sum(responses[binMask])\n",
    "            #     binnedCounts[i] = np.sum(binMask)\n",
    "            # binnedProportions = binnedResponses / binnedCounts\n",
    "            # # Plot each binCenter individually with marker size based on the number of responses\n",
    "            # for binCenter, proportion, count in zip(binCenters, binnedProportions, binnedCounts):\n",
    "            #     marker_size = (count / totalResponses + 0.5) * 100  # Adjust marker size based on count\n",
    "            #     plt.scatter(binCenter, proportion, s=marker_size, color='green', label='Binned Data' if binCenter == binCenters[0] else \"\")\n",
    "            # plt.legend()\n",
    "\n",
    "\n",
    "\n",
    "            "
   ]
  },
  {
   "cell_type": "markdown",
   "metadata": {},
   "source": [
    "# Aggregate data and fit psychometric function"
   ]
  },
  {
   "cell_type": "code",
   "execution_count": 17,
   "metadata": {},
   "outputs": [
    {
     "name": "stdout",
     "output_type": "stream",
     "text": [
      "Standard (Visual)duration: 0.5002, Noise level: 1, Conflict level: 0.0, Fitted parameters: [ 0.06784402 -0.05810691  0.46106821]\n"
     ]
    },
    {
     "data": {
      "image/png": "[encoded data removed]",
      "text/plain": [
       "<Figure size 420x420 with 1 Axes>"
      ]
     },
     "metadata": {},
     "output_type": "display_data"
    }
   ],
   "source": [
    "for i, standardLevel in enumerate(standardDurLevels):\n",
    "    for j, noiseLevel in enumerate(noiseLevels):\n",
    "        for k, conflictLevel in enumerate(conflictLeves):        \n",
    "            #filter data\n",
    "            df=data[data['conflictDur']==conflictLevel]\n",
    "            df= df[df[\"standardDur\"]==standardLevel]\n",
    "            df=df[df[\"rise_dur\"]==noiseLevel]\n",
    "\n",
    "            grouped=groupByChooseTest(df)\n",
    "            # p_choose_test\n",
    "            levels=grouped['delta_dur_percents'].values\n",
    "            responses=grouped['num_of_chose_test'].values\n",
    "            totalResponses=grouped['total_responses'].values\n",
    "            # estimate initial guesses\n",
    "            initial_guesses = estimate_initial_guesses(levels, responses, totalResponses)\n",
    "            # fit psychometric function\n",
    "            fitted_params = fit_psychometric_function(levels, responses, totalResponses,initial_guesses)\n",
    "            # print fitted parameters\n",
    "            print(f\"Standard (Visual)duration: {standardLevel}, Noise level: {noiseLevel}, Conflict level: {conflictLevel}, Fitted parameters: {fitted_params}\")\n",
    "\n",
    "            # plot psychometric function\n",
    "            plt.figure()\n",
    "            #plt.scatter(levels, responses/totalResponses, label='Data', color='blue')\n",
    "            x = np.linspace(-0.9, 0.9, 100)\n",
    "            y = psychometric_function(x, *fitted_params)\n",
    "            plt.plot(x, y, label='Psychometric Function', color='red')\n",
    "            plt.axvline(x=0, color='gray', linestyle='--',)\n",
    "            plt.axhline(y=0.5, color='gray', linestyle='--')\n",
    "            plt.xlabel('Delta Duration')\n",
    "            plt.ylabel('Probability of Choosing Test')\n",
    "            plt.title(f'Standard(Visual)Duration: {round(standardLevel,3)}')\n",
    "            # add fitted parameters to the plot\n",
    "            plt.text(0.3, 0.2, f'lambda: {fitted_params[0]:.2f}\\nmu: {fitted_params[1]:.2f}\\nsigma: {fitted_params[2]:.2f}', fontsize=12, \n",
    "                     bbox=dict(facecolor='white', alpha=0.5))\n",
    "            \n",
    "            # Bin using pd.cut\n",
    "            binSize=8 # number of bins\n",
    "            grouped['bin'] = pd.cut(grouped['delta_dur_percents'], bins=binSize,\n",
    "                                    labels=False, include_lowest=True,retbins=False)\n",
    "            #calculate means and sums for each bin\n",
    "            binGroup=grouped.groupby('bin').agg(\n",
    "                mean_delta_dur=('delta_dur_percents', 'mean'),\n",
    "                sum_num_of_chose_test=('num_of_chose_test', 'sum'),\n",
    "                sum_total_responses=('total_responses', 'sum')\n",
    "            ).reset_index()\n",
    "            #total responses for normalization of marker size\n",
    "            totalResponses=grouped['total_responses'].sum()\n",
    "            #calculate proportions\n",
    "            binGroup['pChooseTest'] = binGroup['sum_num_of_chose_test'] / binGroup['sum_total_responses']\n",
    "            #plot binned data\n",
    "            plt.scatter(binGroup['mean_delta_dur'], binGroup['pChooseTest'], label='Binned Data', color='green'\n",
    "                        ,s=binGroup['sum_total_responses']/totalResponses*900)\n",
    "            \n"
   ]
  }
 ],
 "metadata": {
  "kernelspec": {
   "display_name": "mathmod",
   "language": "python",
   "name": "python3"
  },
  "language_info": {
   "codemirror_mode": {
    "name": "ipython",
    "version": 3
   },
   "file_extension": ".py",
   "mimetype": "text/x-python",
   "name": "python",
   "nbconvert_exporter": "python",
   "pygments_lexer": "ipython3",
   "version": "3.11.8"
  }
 },
 "nbformat": 4,
 "nbformat_minor": 2
}
