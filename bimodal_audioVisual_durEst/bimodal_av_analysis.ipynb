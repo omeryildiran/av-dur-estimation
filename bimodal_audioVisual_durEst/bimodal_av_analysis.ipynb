{
 "cells": [
  {
   "cell_type": "code",
   "execution_count": 3,
   "metadata": {},
   "outputs": [],
   "source": [
    "# import necessary libraries\n",
    "import numpy as np\n",
    "import matplotlib.pyplot as plt\n",
    "import seaborn as sns\n",
    "import pandas as pd\n",
    "import os"
   ]
  },
  {
   "cell_type": "code",
   "execution_count": 6,
   "metadata": {
    "tags": [
     "parameters"
    ]
   },
   "outputs": [],
   "source": [
    "# Setup plot defaultrialsrialsrialss\n",
    "import matplotlib.pyplot as plt\n",
    "import seaborn as sns\n",
    "\n",
    "# Reset styling to default\n",
    "plt.rcdefaults()\n",
    "# Grid on\n",
    "plt.rcParams['axes.grid'] = True\n",
    "# Top and right axis spines off\n",
    "plt.rcParams['axes.spines.right'] = False\n",
    "plt.rcParams['axes.spines.top'] = False\n",
    "\n",
    "# Title 18 x y labels 16 ticks 14\n",
    "plt.rcParams['axes.titlesize'] = 16\n",
    "plt.rcParams['axes.labelsize'] = 14\n",
    "plt.rcParams['xtick.labelsize'] = 12\n",
    "plt.rcParams['ytick.labelsize'] = 12\n",
    "fig_w=6\n",
    "fig_h=6\n",
    "plt.rcParams['figure.figsize'] = (fig_w,fig_h )\n",
    "# Make axis equal\n",
    "#plt.rcParams['axes.axisbelow'] = True \n",
    "\n",
    "\n",
    "plt.rcParams['grid.color'] = '0.8'# Grid color\n",
    "\n",
    "# Set default color cycle\n",
    "plt.rcParams['axes.prop_cycle'] = plt.cycler(color=['#043908', '#ff7f0e', '#9467bd', '#d62728', '#364704', '#8c564b', '#e377c2', '#7f7f7f', '#bcbd22', '#17becf'])\n",
    "# Set default grid settings\n",
    "plt.rcParams['grid.linestyle'] = '--'\n",
    "plt.rcParams['grid.alpha'] = 0.7\n",
    "plt.rcParams['font.family'] = 'sans-serif'\n",
    "import matplotlib as mpl\n",
    "mpl.rcParams['figure.dpi'] = 70"
   ]
  },
  {
   "cell_type": "code",
   "execution_count": null,
   "metadata": {},
   "outputs": [],
   "source": [
    "#load data\n",
    "dataName=\"_bimodal_audioVisual_durEst_2025-03-18_14h49.07.357.csv\"\n",
    "\n",
    "data = pd.read_csv(\"data/\"+dataName)"
   ]
  },
  {
   "cell_type": "code",
   "execution_count": 7,
   "metadata": {},
   "outputs": [
    {
     "data": {
      "application/vnd.microsoft.datawrangler.viewer.v0+json": {
       "columns": [
        {
         "name": "index",
         "rawType": "int64",
         "type": "integer"
        },
        {
         "name": "Unnamed: 0",
         "rawType": "int64",
         "type": "integer"
        },
        {
         "name": "standardDur",
         "rawType": "float64",
         "type": "float"
        },
        {
         "name": "riseDur",
         "rawType": "float64",
         "type": "float"
        },
        {
         "name": "order",
         "rawType": "int64",
         "type": "integer"
        },
        {
         "name": "preDur",
         "rawType": "float64",
         "type": "float"
        },
        {
         "name": "postDur",
         "rawType": "float64",
         "type": "float"
        },
        {
         "name": "isiDur",
         "rawType": "float64",
         "type": "float"
        },
        {
         "name": "trial_num",
         "rawType": "int64",
         "type": "integer"
        },
        {
         "name": "totalDur",
         "rawType": "float64",
         "type": "float"
        },
        {
         "name": "delta_dur_percents",
         "rawType": "float64",
         "type": "float"
        },
        {
         "name": "deltaDurS",
         "rawType": "float64",
         "type": "float"
        },
        {
         "name": "testDurS",
         "rawType": "float64",
         "type": "float"
        },
        {
         "name": "intensities",
         "rawType": "int64",
         "type": "integer"
        },
        {
         "name": "current_stair",
         "rawType": "object",
         "type": "string"
        },
        {
         "name": "responses",
         "rawType": "float64",
         "type": "float"
        },
        {
         "name": "is_correct",
         "rawType": "bool",
         "type": "boolean"
        },
        {
         "name": "response_rts",
         "rawType": "float64",
         "type": "float"
        },
        {
         "name": "stair_num_reversal",
         "rawType": "int64",
         "type": "integer"
        },
        {
         "name": "stair_is_reversal",
         "rawType": "bool",
         "type": "boolean"
        },
        {
         "name": "response_keys",
         "rawType": "object",
         "type": "string"
        },
        {
         "name": "conflictDur",
         "rawType": "float64",
         "type": "float"
        },
        {
         "name": "recordedOnsetVisualTest",
         "rawType": "float64",
         "type": "float"
        },
        {
         "name": "recordedOffsetVisualTest",
         "rawType": "float64",
         "type": "float"
        },
        {
         "name": "recordedDurVisualTest",
         "rawType": "float64",
         "type": "float"
        },
        {
         "name": "recordedOnsetAudio",
         "rawType": "float64",
         "type": "float"
        },
        {
         "name": "recordedOffsetAudio",
         "rawType": "float64",
         "type": "float"
        },
        {
         "name": "recordedDurAudio",
         "rawType": "float64",
         "type": "float"
        },
        {
         "name": "modalityPostCue",
         "rawType": "float64",
         "type": "float"
        }
       ],
       "conversionMethod": "pd.DataFrame",
       "ref": "9cf4d452-e88f-41ae-9d9a-36276c5e0e44",
       "rows": [
        [
         "0",
         "0",
         "0.5",
         "0.0",
         "1",
         "0.425",
         "0.4833",
         "0.5833",
         "0",
         "2.8916",
         "0.8",
         "0.4",
         "0.9",
         "5",
         "lapse_rate",
         "1.0",
         "True",
         "0.875",
         "0",
         "False",
         "left",
         "0.0",
         "0.5486920829862356",
         "1.4632274579489604",
         "0.9145353749627247",
         "2.797413708001841",
         "3.6824092909810138",
         "0.8849955829791725",
         null
        ],
        [
         "1",
         "1",
         "0.5",
         "0.0",
         "2",
         "0.6083",
         "0.5083",
         "0.675",
         "1",
         "3.1166",
         "0.65",
         "0.325",
         "0.825",
         "5",
         "3D1U",
         "1.0",
         "False",
         "46.085",
         "0",
         "False",
         "left",
         "0.0",
         "1.9609311670064928",
         "2.7932672920287587",
         "0.8323361250222661",
         "0.5988972500199452",
         "1.0991836250177585",
         "0.5002863749978133",
         null
        ],
        [
         "2",
         "2",
         "0.5",
         "0.0",
         "1",
         "0.5917",
         "0.5167",
         "0.5333",
         "2",
         "3.0667",
         "0.85",
         "0.425",
         "0.925",
         "5",
         "3D1U",
         "1.0",
         "True",
         "10.336",
         "0",
         "False",
         "left",
         "0.0",
         "0.6142934170202352",
         "1.5476146250148304",
         "0.9333212079945952",
         "3.2306707089883275",
         "4.166023250028957",
         "0.9353525410406291",
         null
        ],
        [
         "3",
         "3",
         "0.5",
         "0.0",
         "2",
         "0.5417",
         "0.575",
         "0.8333",
         "3",
         "2.625",
         "-0.65",
         "-0.325",
         "0.175",
         "5",
         "3U1D",
         "2.0",
         "False",
         "4.336",
         "0",
         "False",
         "right",
         "0.0",
         "3.1453195420326665",
         "3.328779083036352",
         "0.1834595410036854",
         "0.8460015420569107",
         "1.5289530420559458",
         "0.6829514999990351",
         null
        ]
       ],
       "shape": {
        "columns": 28,
        "rows": 4
       }
      },
      "text/html": [
       "<div>\n",
       "<style scoped>\n",
       "    .dataframe tbody tr th:only-of-type {\n",
       "        vertical-align: middle;\n",
       "    }\n",
       "\n",
       "    .dataframe tbody tr th {\n",
       "        vertical-align: top;\n",
       "    }\n",
       "\n",
       "    .dataframe thead th {\n",
       "        text-align: right;\n",
       "    }\n",
       "</style>\n",
       "<table border=\"1\" class=\"dataframe\">\n",
       "  <thead>\n",
       "    <tr style=\"text-align: right;\">\n",
       "      <th></th>\n",
       "      <th>Unnamed: 0</th>\n",
       "      <th>standardDur</th>\n",
       "      <th>riseDur</th>\n",
       "      <th>order</th>\n",
       "      <th>preDur</th>\n",
       "      <th>postDur</th>\n",
       "      <th>isiDur</th>\n",
       "      <th>trial_num</th>\n",
       "      <th>totalDur</th>\n",
       "      <th>delta_dur_percents</th>\n",
       "      <th>...</th>\n",
       "      <th>stair_is_reversal</th>\n",
       "      <th>response_keys</th>\n",
       "      <th>conflictDur</th>\n",
       "      <th>recordedOnsetVisualTest</th>\n",
       "      <th>recordedOffsetVisualTest</th>\n",
       "      <th>recordedDurVisualTest</th>\n",
       "      <th>recordedOnsetAudio</th>\n",
       "      <th>recordedOffsetAudio</th>\n",
       "      <th>recordedDurAudio</th>\n",
       "      <th>modalityPostCue</th>\n",
       "    </tr>\n",
       "  </thead>\n",
       "  <tbody>\n",
       "    <tr>\n",
       "      <th>0</th>\n",
       "      <td>0</td>\n",
       "      <td>0.5</td>\n",
       "      <td>0.0</td>\n",
       "      <td>1</td>\n",
       "      <td>0.4250</td>\n",
       "      <td>0.4833</td>\n",
       "      <td>0.5833</td>\n",
       "      <td>0</td>\n",
       "      <td>2.8916</td>\n",
       "      <td>0.80</td>\n",
       "      <td>...</td>\n",
       "      <td>False</td>\n",
       "      <td>left</td>\n",
       "      <td>0.0</td>\n",
       "      <td>0.548692</td>\n",
       "      <td>1.463227</td>\n",
       "      <td>0.914535</td>\n",
       "      <td>2.797414</td>\n",
       "      <td>3.682409</td>\n",
       "      <td>0.884996</td>\n",
       "      <td>NaN</td>\n",
       "    </tr>\n",
       "    <tr>\n",
       "      <th>1</th>\n",
       "      <td>1</td>\n",
       "      <td>0.5</td>\n",
       "      <td>0.0</td>\n",
       "      <td>2</td>\n",
       "      <td>0.6083</td>\n",
       "      <td>0.5083</td>\n",
       "      <td>0.6750</td>\n",
       "      <td>1</td>\n",
       "      <td>3.1166</td>\n",
       "      <td>0.65</td>\n",
       "      <td>...</td>\n",
       "      <td>False</td>\n",
       "      <td>left</td>\n",
       "      <td>0.0</td>\n",
       "      <td>1.960931</td>\n",
       "      <td>2.793267</td>\n",
       "      <td>0.832336</td>\n",
       "      <td>0.598897</td>\n",
       "      <td>1.099184</td>\n",
       "      <td>0.500286</td>\n",
       "      <td>NaN</td>\n",
       "    </tr>\n",
       "    <tr>\n",
       "      <th>2</th>\n",
       "      <td>2</td>\n",
       "      <td>0.5</td>\n",
       "      <td>0.0</td>\n",
       "      <td>1</td>\n",
       "      <td>0.5917</td>\n",
       "      <td>0.5167</td>\n",
       "      <td>0.5333</td>\n",
       "      <td>2</td>\n",
       "      <td>3.0667</td>\n",
       "      <td>0.85</td>\n",
       "      <td>...</td>\n",
       "      <td>False</td>\n",
       "      <td>left</td>\n",
       "      <td>0.0</td>\n",
       "      <td>0.614293</td>\n",
       "      <td>1.547615</td>\n",
       "      <td>0.933321</td>\n",
       "      <td>3.230671</td>\n",
       "      <td>4.166023</td>\n",
       "      <td>0.935353</td>\n",
       "      <td>NaN</td>\n",
       "    </tr>\n",
       "    <tr>\n",
       "      <th>3</th>\n",
       "      <td>3</td>\n",
       "      <td>0.5</td>\n",
       "      <td>0.0</td>\n",
       "      <td>2</td>\n",
       "      <td>0.5417</td>\n",
       "      <td>0.5750</td>\n",
       "      <td>0.8333</td>\n",
       "      <td>3</td>\n",
       "      <td>2.6250</td>\n",
       "      <td>-0.65</td>\n",
       "      <td>...</td>\n",
       "      <td>False</td>\n",
       "      <td>right</td>\n",
       "      <td>0.0</td>\n",
       "      <td>3.145320</td>\n",
       "      <td>3.328779</td>\n",
       "      <td>0.183460</td>\n",
       "      <td>0.846002</td>\n",
       "      <td>1.528953</td>\n",
       "      <td>0.682951</td>\n",
       "      <td>NaN</td>\n",
       "    </tr>\n",
       "  </tbody>\n",
       "</table>\n",
       "<p>4 rows × 28 columns</p>\n",
       "</div>"
      ],
      "text/plain": [
       "   Unnamed: 0  standardDur  riseDur  order  preDur  postDur  isiDur  \\\n",
       "0           0          0.5      0.0      1  0.4250   0.4833  0.5833   \n",
       "1           1          0.5      0.0      2  0.6083   0.5083  0.6750   \n",
       "2           2          0.5      0.0      1  0.5917   0.5167  0.5333   \n",
       "3           3          0.5      0.0      2  0.5417   0.5750  0.8333   \n",
       "\n",
       "   trial_num  totalDur  delta_dur_percents  ...  stair_is_reversal  \\\n",
       "0          0    2.8916                0.80  ...              False   \n",
       "1          1    3.1166                0.65  ...              False   \n",
       "2          2    3.0667                0.85  ...              False   \n",
       "3          3    2.6250               -0.65  ...              False   \n",
       "\n",
       "   response_keys  conflictDur recordedOnsetVisualTest  \\\n",
       "0           left          0.0                0.548692   \n",
       "1           left          0.0                1.960931   \n",
       "2           left          0.0                0.614293   \n",
       "3          right          0.0                3.145320   \n",
       "\n",
       "   recordedOffsetVisualTest  recordedDurVisualTest  recordedOnsetAudio  \\\n",
       "0                  1.463227               0.914535            2.797414   \n",
       "1                  2.793267               0.832336            0.598897   \n",
       "2                  1.547615               0.933321            3.230671   \n",
       "3                  3.328779               0.183460            0.846002   \n",
       "\n",
       "   recordedOffsetAudio  recordedDurAudio modalityPostCue  \n",
       "0             3.682409          0.884996             NaN  \n",
       "1             1.099184          0.500286             NaN  \n",
       "2             4.166023          0.935353             NaN  \n",
       "3             1.528953          0.682951             NaN  \n",
       "\n",
       "[4 rows x 28 columns]"
      ]
     },
     "execution_count": 7,
     "metadata": {},
     "output_type": "execute_result"
    }
   ],
   "source": [
    "data"
   ]
  },
  {
   "cell_type": "code",
   "execution_count": 8,
   "metadata": {},
   "outputs": [],
   "source": [
    "from scipy.stats import norm\n",
    "from scipy.optimize import minimize"
   ]
  },
  {
   "cell_type": "code",
   "execution_count": null,
   "metadata": {},
   "outputs": [],
   "source": []
  }
 ],
 "metadata": {
  "kernelspec": {
   "display_name": "mathmod",
   "language": "python",
   "name": "python3"
  },
  "language_info": {
   "codemirror_mode": {
    "name": "ipython",
    "version": 3
   },
   "file_extension": ".py",
   "mimetype": "text/x-python",
   "name": "python",
   "nbconvert_exporter": "python",
   "pygments_lexer": "ipython3",
   "version": "3.11.8"
  }
 },
 "nbformat": 4,
 "nbformat_minor": 2
}
